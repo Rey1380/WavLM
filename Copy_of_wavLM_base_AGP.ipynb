{
  "cells": [
    {
      "cell_type": "markdown",
      "metadata": {
        "id": "view-in-github",
        "colab_type": "text"
      },
      "source": [
        "<a href=\"https://colab.research.google.com/github/Rey1380/WavLM/blob/main/Copy_of_wavLM_base_AGP.ipynb\" target=\"_parent\"><img src=\"https://colab.research.google.com/assets/colab-badge.svg\" alt=\"Open In Colab\"/></a>"
      ]
    },
    {
      "cell_type": "markdown",
      "metadata": {
        "id": "DkAwrLGP79Ku"
      },
      "source": [
        "# WavLM_base"
      ]
    },
    {
      "cell_type": "code",
      "execution_count": 29,
      "metadata": {
        "id": "g1rN5dmlEHSd",
        "colab": {
          "base_uri": "https://localhost:8080/"
        },
        "outputId": "15aa44e0-2e7e-442c-910f-abe13034cf0c"
      },
      "outputs": [
        {
          "output_type": "stream",
          "name": "stdout",
          "text": [
            "Looking in indexes: https://pypi.org/simple, https://us-python.pkg.dev/colab-wheels/public/simple/\n",
            "\u001b[31mERROR: Could not find a version that satisfies the requirement time (from versions: none)\u001b[0m\n",
            "\u001b[31mERROR: No matching distribution found for time\u001b[0m\n"
          ]
        }
      ],
      "source": [
        "!pip install time"
      ]
    },
    {
      "cell_type": "code",
      "execution_count": 30,
      "metadata": {
        "id": "bQhy2HQfD-FH"
      },
      "outputs": [],
      "source": [
        "import time\n",
        "start = time.time()"
      ]
    },
    {
      "cell_type": "code",
      "execution_count": 31,
      "metadata": {
        "colab": {
          "base_uri": "https://localhost:8080/"
        },
        "id": "8u7_ibrk89Pw",
        "outputId": "7d0b48f2-8667-4574-a47a-22fb4dee64e0"
      },
      "outputs": [
        {
          "output_type": "stream",
          "name": "stdout",
          "text": [
            "Looking in indexes: https://pypi.org/simple, https://us-python.pkg.dev/colab-wheels/public/simple/\n",
            "Requirement already satisfied: pycm==3.5 in /usr/local/lib/python3.7/dist-packages (3.5)\n",
            "Requirement already satisfied: numpy>=1.9.0 in /usr/local/lib/python3.7/dist-packages (from pycm==3.5) (1.21.6)\n",
            "Requirement already satisfied: art>=1.8 in /usr/local/lib/python3.7/dist-packages (from pycm==3.5) (5.7)\n",
            "Looking in indexes: https://pypi.org/simple, https://us-python.pkg.dev/colab-wheels/public/simple/\n",
            "Requirement already satisfied: transformers in /usr/local/lib/python3.7/dist-packages (4.21.1)\n",
            "Requirement already satisfied: filelock in /usr/local/lib/python3.7/dist-packages (from transformers) (3.7.1)\n",
            "Requirement already satisfied: requests in /usr/local/lib/python3.7/dist-packages (from transformers) (2.23.0)\n",
            "Requirement already satisfied: importlib-metadata in /usr/local/lib/python3.7/dist-packages (from transformers) (4.12.0)\n",
            "Requirement already satisfied: huggingface-hub<1.0,>=0.1.0 in /usr/local/lib/python3.7/dist-packages (from transformers) (0.8.1)\n",
            "Requirement already satisfied: tokenizers!=0.11.3,<0.13,>=0.11.1 in /usr/local/lib/python3.7/dist-packages (from transformers) (0.12.1)\n",
            "Requirement already satisfied: pyyaml>=5.1 in /usr/local/lib/python3.7/dist-packages (from transformers) (6.0)\n",
            "Requirement already satisfied: numpy>=1.17 in /usr/local/lib/python3.7/dist-packages (from transformers) (1.21.6)\n",
            "Requirement already satisfied: regex!=2019.12.17 in /usr/local/lib/python3.7/dist-packages (from transformers) (2022.6.2)\n",
            "Requirement already satisfied: tqdm>=4.27 in /usr/local/lib/python3.7/dist-packages (from transformers) (4.64.0)\n",
            "Requirement already satisfied: packaging>=20.0 in /usr/local/lib/python3.7/dist-packages (from transformers) (21.3)\n",
            "Requirement already satisfied: typing-extensions>=3.7.4.3 in /usr/local/lib/python3.7/dist-packages (from huggingface-hub<1.0,>=0.1.0->transformers) (4.1.1)\n",
            "Requirement already satisfied: pyparsing!=3.0.5,>=2.0.2 in /usr/local/lib/python3.7/dist-packages (from packaging>=20.0->transformers) (3.0.9)\n",
            "Requirement already satisfied: zipp>=0.5 in /usr/local/lib/python3.7/dist-packages (from importlib-metadata->transformers) (3.8.1)\n",
            "Requirement already satisfied: idna<3,>=2.5 in /usr/local/lib/python3.7/dist-packages (from requests->transformers) (2.10)\n",
            "Requirement already satisfied: chardet<4,>=3.0.2 in /usr/local/lib/python3.7/dist-packages (from requests->transformers) (3.0.4)\n",
            "Requirement already satisfied: urllib3!=1.25.0,!=1.25.1,<1.26,>=1.21.1 in /usr/local/lib/python3.7/dist-packages (from requests->transformers) (1.25.11)\n",
            "Requirement already satisfied: certifi>=2017.4.17 in /usr/local/lib/python3.7/dist-packages (from requests->transformers) (2022.6.15)\n"
          ]
        }
      ],
      "source": [
        "#!pip install  transformers \n",
        "#!pip install --quiet datasets\n",
        "!pip install pycm==3.5\n",
        "!pip install transformers"
      ]
    },
    {
      "cell_type": "code",
      "execution_count": 32,
      "metadata": {
        "colab": {
          "base_uri": "https://localhost:8080/"
        },
        "id": "qTN5vVLa19E6",
        "outputId": "12198c89-b769-46d4-ee50-0ccc71a32efd"
      },
      "outputs": [
        {
          "output_type": "stream",
          "name": "stdout",
          "text": [
            "Drive already mounted at /content/drive; to attempt to forcibly remount, call drive.mount(\"/content/drive\", force_remount=True).\n"
          ]
        }
      ],
      "source": [
        "from google.colab import drive\n",
        "drive.mount('/content/drive')"
      ]
    },
    {
      "cell_type": "code",
      "execution_count": 33,
      "metadata": {
        "id": "CP1jqlTf9D4e"
      },
      "outputs": [],
      "source": [
        "from transformers import Wav2Vec2FeatureExtractor, WavLMForXVector\n",
        "import torch\n",
        "import librosa\n",
        "import IPython.display as ipd\n",
        "import numpy as np"
      ]
    },
    {
      "cell_type": "code",
      "source": [
        "noise,sr=librosa.load(\"/content/drive/MyDrive/intern/noise-sound-bible-0061.wav\")"
      ],
      "metadata": {
        "id": "MJh7yLenmlY1"
      },
      "execution_count": 36,
      "outputs": []
    },
    {
      "cell_type": "code",
      "source": [
        "len(noise)"
      ],
      "metadata": {
        "colab": {
          "base_uri": "https://localhost:8080/"
        },
        "id": "lGOb59RVsZih",
        "outputId": "361d9898-040d-4858-89d0-ffab8ac0f989"
      },
      "execution_count": 37,
      "outputs": [
        {
          "output_type": "execute_result",
          "data": {
            "text/plain": [
              "429182"
            ]
          },
          "metadata": {},
          "execution_count": 37
        }
      ]
    },
    {
      "cell_type": "code",
      "execution_count": 39,
      "metadata": {
        "colab": {
          "base_uri": "https://localhost:8080/"
        },
        "id": "CNEmqbBM0Zng",
        "outputId": "e3a643ad-be5b-4c70-d572-633eb9647c33"
      },
      "outputs": [
        {
          "output_type": "stream",
          "name": "stdout",
          "text": [
            "0.14024490191727887 0.9903084168330514 0.138885706786607\n",
            "0.12705074303746358 0.9920254685340317 0.12603757288933667\n"
          ]
        },
        {
          "output_type": "stream",
          "name": "stderr",
          "text": [
            "/usr/local/lib/python3.7/dist-packages/ipykernel_launcher.py:8: DeprecationWarning: `np.float` is a deprecated alias for the builtin `float`. To silence this warning, use `float` by itself. Doing this will not modify any behavior and is safe. If you specifically wanted the numpy scalar type, use `np.float64` here.\n",
            "Deprecated in NumPy 1.20; for more details and guidance: https://numpy.org/devdocs/release/1.20.0-notes.html#deprecations\n",
            "  \n"
          ]
        },
        {
          "output_type": "stream",
          "name": "stdout",
          "text": [
            "0.2837431816601341 0.9620232450814031 0.2729675363904043\n",
            "0.15553687952561698 0.988119271613991 0.15368898810596573\n",
            "0.12709074712763552 0.9920205058664985 0.1260766272565082\n",
            "0.09522905072303592 0.9954963223490693 0.09480016977557523\n",
            "0.1623373762447781 0.9870781360334604 0.16023967475225812\n",
            "0.2010681464630253 0.9803787763847054 0.19712294339936146\n",
            "0.1116215864976244 0.9938279263526153 0.11093264984512313\n",
            "0.14464134741206688 0.9897007651164407 0.1431516522011955\n",
            "0.22019070544876612 0.9766053684499817 0.21503942502405363\n",
            "0.1648053731369935 0.9866901193752238 0.1626118332942184\n",
            "0.31326249873361595 0.9542725929248632 0.29893781693264937\n",
            "0.2056336180959788 0.9795051362153342 0.20141918510355372\n",
            "0.2090370382136556 0.9788426631026206 0.2046143711721389\n",
            "0.2935478621770473 0.959513366036307 0.2816630973302606\n",
            "0.26896199015575945 0.9656808854016118 0.2597314527929934\n",
            "0.25621107003395427 0.9687102723300264 0.2481942954265593\n",
            "0.20565572790228676 0.9795008633450059 0.2014399630321355\n",
            "0.2434020779532428 0.9716321498044351 0.23649728426857602\n",
            "0.17664355719522704 0.9847543941948081 0.17395051915420176\n",
            "0.13262580720646833 0.9913195455584236 0.13147455492923527\n",
            "0.19247254820802867 0.9819764131758015 0.18900350252412657\n",
            "0.2003218297563119 0.9805199440358521 0.19641954930181846\n",
            "0.19359220652074316 0.9817718237910914 0.19006337366761164\n",
            "0.1666982249158834 0.9863888754688908 0.16442927461743845\n",
            "0.17138443912333573 0.9856294978419332 0.16892155867105477\n",
            "0.11534323226483342 0.9934136162445376 0.11458353747354179\n",
            "0.16737520241529183 0.9862803681576515 0.16507887625861548\n",
            "0.17945093300967552 0.984277410023211 0.17662949956901217\n",
            "{'spk-019': array([ 0.00021903,  0.00248381,  0.00229456, ...,  0.00275339,\n",
            "       -0.01087945, -0.0305048 ]), 'spk-020': array([ 0.02138473,  0.02785283,  0.01578994, ...,  0.01154174,\n",
            "        0.00249506, -0.00529994]), 'spk-001': array([-8.11604730e-02, -1.21625551e-01, -1.42859038e-01, ...,\n",
            "        2.89465665e-02,  1.09251570e-02, -1.38057482e-04]), 'spk-021': array([0.01605258, 0.0157479 , 0.00979751, ..., 0.02914784, 0.01956407,\n",
            "       0.01434029]), 'spk-022': array([-0.01173398, -0.01407661, -0.01574045, ...,  0.00610945,\n",
            "       -0.00261014, -0.00745718]), 'spk-023': array([-0.03853086, -0.04761444, -0.03767245, ..., -0.01708262,\n",
            "       -0.03312565, -0.05588059]), 'spk-024': array([0.00097768, 0.00254095, 0.00288541, ..., 0.10039811, 0.10046524,\n",
            "       0.09142155]), 'spk-026': array([ 0.06938477,  0.07826154,  0.04973131, ...,  0.014603  ,\n",
            "       -0.01496916, -0.03406358]), 'spk-028': array([-0.08457849, -0.0705536 , -0.01124994, ...,  0.00302906,\n",
            "       -0.01054353,  0.00420478]), 'spk-029': array([ 0.00384104, -0.0123187 ,  0.0120047 , ...,  0.01463294,\n",
            "        0.00424787, -0.00373393]), 'spk-030': array([-4.30715507e-03, -1.55621596e-03,  4.89016283e-05, ...,\n",
            "        4.73299140e-02,  2.79164828e-02,  2.35898156e-02]), 'spk-003': array([-0.05449984, -0.07607706, -0.06602888, ..., -0.00106418,\n",
            "        0.00380542, -0.00253254]), 'spk-004': array([-0.02508575, -0.04776819, -0.066321  , ..., -0.08089057,\n",
            "       -0.14156004, -0.16242093]), 'spk-006': array([-0.06686615, -0.01222332,  0.06004585, ...,  0.02815379,\n",
            "        0.00581003,  0.00802483]), 'spk-005': array([ 0.00805206,  0.02761674,  0.04716726, ..., -0.11728084,\n",
            "       -0.13420451, -0.12465201]), 'spk-007': array([ 0.00658052, -0.00057448,  0.01104784, ...,  0.03387323,\n",
            "        0.0165869 ,  0.00339591]), 'spk-008': array([-0.01169641, -0.00865375, -0.01083425, ...,  0.02785265,\n",
            "        0.00839742,  0.00577648]), 'spk-009': array([ 0.00047227,  0.00095229, -0.00046538, ...,  0.02882777,\n",
            "        0.03018682,  0.03317127]), 'spk-010': array([-0.07004391, -0.09586804, -0.07792805, ...,  0.01808179,\n",
            "        0.00642861, -0.00283002]), 'spk-011': array([ 0.00349493, -0.02567893, -0.01898474, ...,  0.0237323 ,\n",
            "        0.00766952, -0.04172932]), 'spk-012': array([-0.00723281, -0.01481105, -0.01805823, ..., -0.06446996,\n",
            "       -0.03457366,  0.0010252 ]), 'spk-013': array([-0.05734936, -0.05616344, -0.02992101, ...,  0.01272645,\n",
            "        0.00069421, -0.00753897]), 'spk-014': array([ 0.09284118,  0.12359968,  0.12269266, ..., -0.05754768,\n",
            "       -0.06241679, -0.06192235]), 'spk-015': array([-0.06080134, -0.05635241, -0.00543033, ...,  0.02251721,\n",
            "        0.00655247, -0.00176094]), 'spk-016': array([ 0.00155436,  0.00559155,  0.00934088, ...,  0.0034687 ,\n",
            "       -0.01097371, -0.01459756]), 'spk-017': array([-0.06082509, -0.07114358, -0.06792388, ...,  0.04022771,\n",
            "       -0.02218745, -0.11054002]), 'spk-018': array([ 0.01156042,  0.0169638 ,  0.01448202, ...,  0.02279289,\n",
            "       -0.01410193, -0.04866256]), 'spk-002': array([ 0.01911873,  0.02408677,  0.02170497, ..., -0.09150143,\n",
            "       -0.09545781, -0.09163063]), 'spk-025': array([0.00573534, 0.0076045 , 0.00626996, ..., 0.1292828 , 0.08895401,\n",
            "       0.08143733]), 'spk-027': array([ 0.00411592, -0.00408392, -0.01316053, ...,  0.02216473,\n",
            "        0.01340607,  0.00629734])}\n"
          ]
        }
      ],
      "source": [
        "import os\n",
        "spk2spch = {}\n",
        "PATH = \"/content/drive/MyDrive/intern/farsdot_enrollment2/\"\n",
        "for fname in next(os.walk(PATH))[2]:\n",
        "    spk_id, _ = fname.split(\"F\")\n",
        "    speech_array, sample_rate = librosa.load(PATH + fname)\n",
        "    speech_array=mix_audio(speech_array,noise,15)\n",
        "    speech_array = speech_array.squeeze().astype(np.float)\n",
        "    speech_array = librosa.resample(np.array(speech_array), sample_rate, 16000)\n",
        "    \n",
        "    spk2spch[f\"spk-{spk_id}\"] = speech_array\n",
        "print(spk2spch)"
      ]
    },
    {
      "cell_type": "code",
      "source": [
        "!pip install datasets"
      ],
      "metadata": {
        "colab": {
          "base_uri": "https://localhost:8080/",
          "height": 1000
        },
        "id": "93_oqcmnoawm",
        "outputId": "0759e1a9-df99-4ace-dd0f-17304e67c1f0"
      },
      "execution_count": 14,
      "outputs": [
        {
          "output_type": "stream",
          "name": "stdout",
          "text": [
            "Looking in indexes: https://pypi.org/simple, https://us-python.pkg.dev/colab-wheels/public/simple/\n",
            "Collecting datasets\n",
            "  Downloading datasets-2.4.0-py3-none-any.whl (365 kB)\n",
            "\u001b[K     |████████████████████████████████| 365 kB 7.4 MB/s \n",
            "\u001b[?25hCollecting multiprocess\n",
            "  Downloading multiprocess-0.70.13-py37-none-any.whl (115 kB)\n",
            "\u001b[K     |████████████████████████████████| 115 kB 66.0 MB/s \n",
            "\u001b[?25hRequirement already satisfied: tqdm>=4.62.1 in /usr/local/lib/python3.7/dist-packages (from datasets) (4.64.0)\n",
            "Requirement already satisfied: huggingface-hub<1.0.0,>=0.1.0 in /usr/local/lib/python3.7/dist-packages (from datasets) (0.8.1)\n",
            "Requirement already satisfied: dill<0.3.6 in /usr/local/lib/python3.7/dist-packages (from datasets) (0.3.5.1)\n",
            "Requirement already satisfied: numpy>=1.17 in /usr/local/lib/python3.7/dist-packages (from datasets) (1.21.6)\n",
            "Requirement already satisfied: pyarrow>=6.0.0 in /usr/local/lib/python3.7/dist-packages (from datasets) (6.0.1)\n",
            "Collecting xxhash\n",
            "  Downloading xxhash-3.0.0-cp37-cp37m-manylinux_2_17_x86_64.manylinux2014_x86_64.whl (212 kB)\n",
            "\u001b[K     |████████████████████████████████| 212 kB 58.0 MB/s \n",
            "\u001b[?25hCollecting responses<0.19\n",
            "  Downloading responses-0.18.0-py3-none-any.whl (38 kB)\n",
            "Requirement already satisfied: pandas in /usr/local/lib/python3.7/dist-packages (from datasets) (1.3.5)\n",
            "Requirement already satisfied: requests>=2.19.0 in /usr/local/lib/python3.7/dist-packages (from datasets) (2.23.0)\n",
            "Collecting fsspec[http]>=2021.11.1\n",
            "  Downloading fsspec-2022.7.1-py3-none-any.whl (141 kB)\n",
            "\u001b[K     |████████████████████████████████| 141 kB 61.4 MB/s \n",
            "\u001b[?25hRequirement already satisfied: packaging in /usr/local/lib/python3.7/dist-packages (from datasets) (21.3)\n",
            "Requirement already satisfied: importlib-metadata in /usr/local/lib/python3.7/dist-packages (from datasets) (4.12.0)\n",
            "Requirement already satisfied: aiohttp in /usr/local/lib/python3.7/dist-packages (from datasets) (3.8.1)\n",
            "Requirement already satisfied: typing-extensions>=3.7.4.3 in /usr/local/lib/python3.7/dist-packages (from huggingface-hub<1.0.0,>=0.1.0->datasets) (4.1.1)\n",
            "Requirement already satisfied: filelock in /usr/local/lib/python3.7/dist-packages (from huggingface-hub<1.0.0,>=0.1.0->datasets) (3.7.1)\n",
            "Requirement already satisfied: pyyaml>=5.1 in /usr/local/lib/python3.7/dist-packages (from huggingface-hub<1.0.0,>=0.1.0->datasets) (6.0)\n",
            "Requirement already satisfied: pyparsing!=3.0.5,>=2.0.2 in /usr/local/lib/python3.7/dist-packages (from packaging->datasets) (3.0.9)\n",
            "Requirement already satisfied: urllib3!=1.25.0,!=1.25.1,<1.26,>=1.21.1 in /usr/local/lib/python3.7/dist-packages (from requests>=2.19.0->datasets) (1.24.3)\n",
            "Requirement already satisfied: chardet<4,>=3.0.2 in /usr/local/lib/python3.7/dist-packages (from requests>=2.19.0->datasets) (3.0.4)\n",
            "Requirement already satisfied: certifi>=2017.4.17 in /usr/local/lib/python3.7/dist-packages (from requests>=2.19.0->datasets) (2022.6.15)\n",
            "Requirement already satisfied: idna<3,>=2.5 in /usr/local/lib/python3.7/dist-packages (from requests>=2.19.0->datasets) (2.10)\n",
            "Collecting urllib3!=1.25.0,!=1.25.1,<1.26,>=1.21.1\n",
            "  Downloading urllib3-1.25.11-py2.py3-none-any.whl (127 kB)\n",
            "\u001b[K     |████████████████████████████████| 127 kB 53.6 MB/s \n",
            "\u001b[?25hRequirement already satisfied: charset-normalizer<3.0,>=2.0 in /usr/local/lib/python3.7/dist-packages (from aiohttp->datasets) (2.1.0)\n",
            "Requirement already satisfied: async-timeout<5.0,>=4.0.0a3 in /usr/local/lib/python3.7/dist-packages (from aiohttp->datasets) (4.0.2)\n",
            "Requirement already satisfied: aiosignal>=1.1.2 in /usr/local/lib/python3.7/dist-packages (from aiohttp->datasets) (1.2.0)\n",
            "Requirement already satisfied: frozenlist>=1.1.1 in /usr/local/lib/python3.7/dist-packages (from aiohttp->datasets) (1.3.0)\n",
            "Requirement already satisfied: asynctest==0.13.0 in /usr/local/lib/python3.7/dist-packages (from aiohttp->datasets) (0.13.0)\n",
            "Requirement already satisfied: attrs>=17.3.0 in /usr/local/lib/python3.7/dist-packages (from aiohttp->datasets) (22.1.0)\n",
            "Requirement already satisfied: multidict<7.0,>=4.5 in /usr/local/lib/python3.7/dist-packages (from aiohttp->datasets) (6.0.2)\n",
            "Requirement already satisfied: yarl<2.0,>=1.0 in /usr/local/lib/python3.7/dist-packages (from aiohttp->datasets) (1.8.1)\n",
            "Requirement already satisfied: zipp>=0.5 in /usr/local/lib/python3.7/dist-packages (from importlib-metadata->datasets) (3.8.1)\n",
            "Requirement already satisfied: python-dateutil>=2.7.3 in /usr/local/lib/python3.7/dist-packages (from pandas->datasets) (2.8.2)\n",
            "Requirement already satisfied: pytz>=2017.3 in /usr/local/lib/python3.7/dist-packages (from pandas->datasets) (2022.1)\n",
            "Requirement already satisfied: six>=1.5 in /usr/local/lib/python3.7/dist-packages (from python-dateutil>=2.7.3->pandas->datasets) (1.15.0)\n",
            "Installing collected packages: urllib3, fsspec, xxhash, responses, multiprocess, datasets\n",
            "  Attempting uninstall: urllib3\n",
            "    Found existing installation: urllib3 1.24.3\n",
            "    Uninstalling urllib3-1.24.3:\n",
            "      Successfully uninstalled urllib3-1.24.3\n",
            "Successfully installed datasets-2.4.0 fsspec-2022.7.1 multiprocess-0.70.13 responses-0.18.0 urllib3-1.25.11 xxhash-3.0.0\n"
          ]
        },
        {
          "output_type": "display_data",
          "data": {
            "application/vnd.colab-display-data+json": {
              "pip_warning": {
                "packages": [
                  "urllib3"
                ]
              }
            }
          },
          "metadata": {}
        }
      ]
    },
    {
      "cell_type": "code",
      "execution_count": 40,
      "metadata": {
        "id": "fWNtdHBI0Znh"
      },
      "outputs": [],
      "source": [
        "from transformers import Wav2Vec2FeatureExtractor, WavLMForXVector\n",
        "from datasets import load_dataset\n",
        "import torch\n",
        "feature_extractor = Wav2Vec2FeatureExtractor.from_pretrained(\"microsoft/wavlm-base-plus-sv\")\n",
        "model = WavLMForXVector.from_pretrained(\"microsoft/wavlm-base-plus-sv\")\n",
        "threshold = 0.9\n",
        "similarities = []"
      ]
    },
    {
      "cell_type": "code",
      "source": [
        "len(speech_array)"
      ],
      "metadata": {
        "colab": {
          "base_uri": "https://localhost:8080/"
        },
        "id": "JZJVyjmoqnGv",
        "outputId": "34c582f9-11d2-4139-90dc-7ca35a2ce5f6"
      },
      "execution_count": 27,
      "outputs": [
        {
          "output_type": "execute_result",
          "data": {
            "text/plain": [
              "96000"
            ]
          },
          "metadata": {},
          "execution_count": 27
        }
      ]
    },
    {
      "cell_type": "code",
      "execution_count": null,
      "metadata": {
        "colab": {
          "base_uri": "https://localhost:8080/"
        },
        "id": "f_NlDq4v0Zni",
        "outputId": "a8981932-0027-458a-bdcd-f1dc74a385e3"
      },
      "outputs": [
        {
          "output_type": "stream",
          "name": "stdout",
          "text": [
            "0.3518181510591148 0.9433223438063495 0.33187792285070045\n",
            "/content/drive/MyDrive/intern/wavlm large/farsdot/001F02.WAV.WAV spk-001 target\n"
          ]
        },
        {
          "output_type": "stream",
          "name": "stderr",
          "text": [
            "/usr/local/lib/python3.7/dist-packages/transformers/models/wavlm/modeling_wavlm.py:1755: UserWarning: __floordiv__ is deprecated, and its behavior will change in a future version of pytorch. It currently rounds toward 0 (like the 'trunc' function NOT 'floor'). This results in incorrect rounding for negative values. To keep the current behavior, use torch.div(a, b, rounding_mode='trunc'), or for actual floor division, use torch.div(a, b, rounding_mode='floor').\n",
            "  return (input_length - kernel_size) // stride + 1\n"
          ]
        },
        {
          "output_type": "stream",
          "name": "stdout",
          "text": [
            "0.9720351696014404\n",
            "0.34904543900153306 0.9441390245942421 0.32954742031797646\n",
            "/content/drive/MyDrive/intern/wavlm large/farsdot/001F03.WAV.WAV spk-001 target\n",
            "0.9906752705574036\n",
            "0.3338226609204826 0.9485439614617145 0.3166454692152052\n",
            "/content/drive/MyDrive/intern/wavlm large/farsdot/001F04.WAV.WAV spk-001 target\n",
            "0.9724102020263672\n",
            "0.345803490041569 0.945088380538841 0.32681486038806573\n",
            "/content/drive/MyDrive/intern/wavlm large/farsdot/001F05.WAV.WAV spk-001 target\n",
            "0.9788296222686768\n",
            "0.31737214829136245 0.9531485003589271 0.3025027871996031\n",
            "/content/drive/MyDrive/intern/wavlm large/farsdot/001F06.WAV.WAV spk-001 target\n",
            "0.9721957445144653\n",
            "0.29472532816265684 0.9592075622489541 0.2827027635599251\n",
            "/content/drive/MyDrive/intern/wavlm large/farsdot/001F07.WAV.WAV spk-001 target\n",
            "0.987989068031311\n",
            "0.3598440521275889 0.9409341674245917 0.3385895635913642\n",
            "/content/drive/MyDrive/intern/wavlm large/farsdot/001F08.WAV.WAV spk-001 target\n",
            "0.9774734973907471\n",
            "0.282431863622122 0.9623539261551919 0.27179941282807685\n",
            "/content/drive/MyDrive/intern/wavlm large/farsdot/001F09.WAV.WAV spk-001 target\n",
            "0.9769867062568665\n",
            "0.2665869377801435 0.9662541166002326 0.25759072606191374\n",
            "/content/drive/MyDrive/intern/wavlm large/farsdot/001F10.WAV.WAV spk-001 target\n",
            "0.9782665371894836\n",
            "0.15902801381719514 0.9875899424315618 0.1570544670107294\n",
            "/content/drive/MyDrive/intern/wavlm large/farsdot/002F02.wav.wav spk-001 nontarget\n",
            "0.7327365875244141\n",
            "0.1670069857722795 0.986339436765255 0.16472557628249312\n",
            "/content/drive/MyDrive/intern/wavlm large/farsdot/002F03.wav.wav spk-001 nontarget\n",
            "0.758348286151886\n",
            "0.24646185024823528 0.9709454299662882 0.23930100715955974\n",
            "/content/drive/MyDrive/intern/wavlm large/farsdot/002F04.wav.wav spk-001 nontarget\n",
            "0.6312732696533203\n",
            "0.20799297546748327 0.9790469020178626 0.2036348782729168\n",
            "/content/drive/MyDrive/intern/wavlm large/farsdot/002F05.wav.wav spk-001 nontarget\n",
            "0.6726109981536865\n",
            "0.22487772855208377 0.9756352969278306 0.21939864946836832\n",
            "/content/drive/MyDrive/intern/wavlm large/farsdot/002F06.wav.wav spk-001 nontarget\n",
            "0.6566115021705627\n",
            "0.23407112207135042 0.9736820061683726 0.2279108397245145\n",
            "/content/drive/MyDrive/intern/wavlm large/farsdot/002F07.wav.wav spk-001 nontarget\n",
            "0.7166594862937927\n",
            "0.16041201051291784 0.9873770873903114 0.15838714372266882\n",
            "/content/drive/MyDrive/intern/wavlm large/farsdot/002F08.wav.wav spk-001 nontarget\n",
            "0.7244116067886353\n",
            "0.15817826003690857 0.9877197860157652 0.1562357971560014\n",
            "/content/drive/MyDrive/intern/wavlm large/farsdot/002F09.wav.wav spk-001 nontarget\n",
            "0.7076582312583923\n",
            "0.16344954053778377 0.9869039504452902 0.1613089972552064\n",
            "/content/drive/MyDrive/intern/wavlm large/farsdot/002F10.wav.wav spk-001 nontarget\n",
            "0.7404842972755432\n",
            "0.1491021193985871 0.9890662497330464 0.14747187406080944\n",
            "/content/drive/MyDrive/intern/wavlm large/farsdot/003F02.WAV.WAV spk-001 nontarget\n",
            "0.40194055438041687\n",
            "0.21988676913853655 0.9766676673828449 0.21475629790288464\n",
            "/content/drive/MyDrive/intern/wavlm large/farsdot/003F03.WAV.WAV spk-001 nontarget\n",
            "0.43752846121788025\n",
            "0.1179853209565231 0.9931115671746172 0.11717258699873287\n",
            "/content/drive/MyDrive/intern/wavlm large/farsdot/003F04.WAV.WAV spk-001 nontarget\n",
            "0.38740426301956177\n",
            "0.15062503278670397 0.9888454990637379 0.14894488571746017\n",
            "/content/drive/MyDrive/intern/wavlm large/farsdot/003F05.WAV.WAV spk-001 nontarget\n",
            "0.3926599621772766\n",
            "0.17510618082620058 0.9850127026501325 0.17248181242635865\n",
            "/content/drive/MyDrive/intern/wavlm large/farsdot/003F06.WAV.WAV spk-001 nontarget\n",
            "0.4293645918369293\n",
            "0.15139156261406028 0.9887335961310096 0.14968592412729273\n",
            "/content/drive/MyDrive/intern/wavlm large/farsdot/003F07.WAV.WAV spk-001 nontarget\n",
            "0.4492819309234619\n",
            "0.13739353008649416 0.9906930686834994 0.1361148179386476\n",
            "/content/drive/MyDrive/intern/wavlm large/farsdot/003F08.WAV.WAV spk-001 nontarget\n",
            "0.386067271232605\n",
            "0.13893633341863534 0.9904858688008128 0.13761447491415643\n",
            "/content/drive/MyDrive/intern/wavlm large/farsdot/003F09.WAV.WAV spk-001 nontarget\n",
            "0.41737598180770874\n",
            "0.13642752748600603 0.990821691225286 0.13517535351336868\n",
            "/content/drive/MyDrive/intern/wavlm large/farsdot/003F10.WAV.WAV spk-001 nontarget\n",
            "0.40487560629844666\n",
            "0.2727199280023038 0.9647656199533311 0.26311081041277046\n",
            "/content/drive/MyDrive/intern/wavlm large/farsdot/004F02.WAV.WAV spk-001 nontarget\n",
            "0.47898727655410767\n",
            "0.21247457694472854 0.9781639067451543 0.20783496226827955\n",
            "/content/drive/MyDrive/intern/wavlm large/farsdot/004F03.WAV.WAV spk-001 nontarget\n",
            "0.47536253929138184\n",
            "0.25708021892348354 0.9685075631308697 0.24898413635873354\n",
            "/content/drive/MyDrive/intern/wavlm large/farsdot/004F04.WAV.WAV spk-001 nontarget\n",
            "0.4632163345813751\n",
            "0.26490497105893623 0.9666576041089678 0.2560724046403868\n",
            "/content/drive/MyDrive/intern/wavlm large/farsdot/004F05.WAV.WAV spk-001 nontarget\n",
            "0.49395042657852173\n",
            "0.1957415375775281 0.9813761252634319 0.19209607170094098\n",
            "/content/drive/MyDrive/intern/wavlm large/farsdot/004F06.WAV.WAV spk-001 nontarget\n",
            "0.43157607316970825\n",
            "0.24079630328461307 0.9722113437548107 0.2341048975875246\n",
            "/content/drive/MyDrive/intern/wavlm large/farsdot/004F07.WAV.WAV spk-001 nontarget\n",
            "0.4864344000816345\n",
            "0.2537950911229147 0.9692708000564013 0.24599617102309482\n",
            "/content/drive/MyDrive/intern/wavlm large/farsdot/004F08.WAV.WAV spk-001 nontarget\n",
            "0.49672332406044006\n",
            "0.2756754107553842 0.9640387334403366 0.26576177382526517\n",
            "/content/drive/MyDrive/intern/wavlm large/farsdot/004F09.WAV.WAV spk-001 nontarget\n",
            "0.5033602118492126\n",
            "0.3037501643594029 0.9568330276752391 0.290638189420859\n",
            "/content/drive/MyDrive/intern/wavlm large/farsdot/004F10.WAV.WAV spk-001 nontarget\n",
            "0.5230215787887573\n",
            "0.3360856997056969 0.9478977036935688 0.3185748629952765\n",
            "/content/drive/MyDrive/intern/wavlm large/farsdot/005F02.WAV.WAV spk-001 nontarget\n",
            "0.6681306958198547\n",
            "0.23660698710406824 0.9731315747884939 0.2302497299665428\n",
            "/content/drive/MyDrive/intern/wavlm large/farsdot/005F03.WAV.WAV spk-001 nontarget\n",
            "0.7275493741035461\n",
            "0.33183305447944733 0.9491096111874988 0.3149459413161484\n",
            "/content/drive/MyDrive/intern/wavlm large/farsdot/005F04.WAV.WAV spk-001 nontarget\n",
            "0.6580091118812561\n",
            "0.27907823590349545 0.9631941894646967 0.2688065352283048\n",
            "/content/drive/MyDrive/intern/wavlm large/farsdot/005F05.WAV.WAV spk-001 nontarget\n"
          ]
        }
      ],
      "source": [
        "from os.path import exists\n",
        "\n",
        "with open('/content/drive/MyDrive/intern/farsdot/trials') as f:\n",
        "    for line in f:\n",
        "        line = line.strip()\n",
        "        spk_id, utt_id, target_nontarget = line.split()\n",
        "        path = \"/content/drive/MyDrive/intern/wavlm large/farsdot/\"  + utt_id.split(\"-\")[1] + \".wav.wav\"\n",
        "        if exists(path) is False:\n",
        "            path = \"/content/drive/MyDrive/intern/wavlm large/farsdot/\"  + utt_id.split(\"-\")[1] + \".WAV.WAV\"\n",
        "        \n",
        "        speech_array2, sample_rate =librosa.load(path)\n",
        "        speech_array2=mix_audio(speech_array2,noise,15)\n",
        "        print(path, spk_id, target_nontarget)\n",
        "        speech_array2 = speech_array2.squeeze().astype(float)\n",
        "        speech_array2 = librosa.resample(np.array(speech_array2), sample_rate, 16000)\n",
        "        speech3 = [spk2spch[spk_id], speech_array2]\n",
        "        \n",
        "        inputs= feature_extractor(\n",
        "            speech3,\n",
        "            sampling_rate=16000,\n",
        "            return_tensors=\"pt\",\n",
        "            padding=True)\n",
        "\n",
        "        with torch.no_grad():\n",
        "            embeddings = model(**inputs).embeddings\n",
        "\n",
        "        embeddings = torch.nn.functional.normalize(embeddings, dim=-1).cpu()\n",
        "        cosine_sim = torch.nn.CosineSimilarity(dim=-1)\n",
        "        similarity = cosine_sim(embeddings[0], embeddings[1])\n",
        "        similarities.append(similarity.item())\n",
        "        print(similarity.item())"
      ]
    },
    {
      "cell_type": "code",
      "source": [
        "len(speech_array2)\n"
      ],
      "metadata": {
        "colab": {
          "base_uri": "https://localhost:8080/"
        },
        "id": "uERN4GKMouPe",
        "outputId": "5596ed79-048b-4c67-e46e-5700ed2f8888"
      },
      "execution_count": 20,
      "outputs": [
        {
          "output_type": "execute_result",
          "data": {
            "text/plain": [
              "96000"
            ]
          },
          "metadata": {},
          "execution_count": 20
        }
      ]
    },
    {
      "cell_type": "code",
      "source": [
        "len(noise)"
      ],
      "metadata": {
        "colab": {
          "base_uri": "https://localhost:8080/"
        },
        "id": "Ujbzq3E9o-jK",
        "outputId": "dcabb630-1436-4934-8c1c-3cb7f9ee2bc8"
      },
      "execution_count": 21,
      "outputs": [
        {
          "output_type": "execute_result",
          "data": {
            "text/plain": [
              "2"
            ]
          },
          "metadata": {},
          "execution_count": 21
        }
      ]
    },
    {
      "cell_type": "code",
      "execution_count": null,
      "metadata": {
        "id": "EOOY9uVk0Znk"
      },
      "outputs": [],
      "source": [
        "np.save(\"similarities.npy\", np.array(similarities))"
      ]
    },
    {
      "cell_type": "code",
      "execution_count": null,
      "metadata": {
        "id": "JSGwogWs0Znm"
      },
      "outputs": [],
      "source": [
        "actual_vector = []\n",
        "with open('/content/drive/MyDrive/intern/wavlm large/farsdot/trials') as f:\n",
        "    for line in f:\n",
        "        line = line.strip()\n",
        "        spk_id, utt_id, target_nontarget = line.split()\n",
        "        if target_nontarget == \"nontarget\":\n",
        "            actual_vector.append(0)\n",
        "        else:\n",
        "            actual_vector.append(1)\n",
        "actual_vector = np.array(actual_vector)"
      ]
    },
    {
      "cell_type": "markdown",
      "metadata": {
        "id": "8CaF9h9p0Znn"
      },
      "source": [
        "ROC:"
      ]
    },
    {
      "cell_type": "code",
      "execution_count": null,
      "metadata": {
        "id": "Z9kPbStN0Zno"
      },
      "outputs": [],
      "source": [
        "threshold = 0.957"
      ]
    },
    {
      "cell_type": "code",
      "execution_count": null,
      "metadata": {
        "id": "IeGmQYNA0Zno"
      },
      "outputs": [],
      "source": [
        "similarities = np.array(similarities)\n",
        "predict_vector = (similarities > threshold) * 1\n",
        "print(predict_vector)\n",
        "print(actual_vector)"
      ]
    },
    {
      "cell_type": "code",
      "execution_count": null,
      "metadata": {
        "id": "VTmbaEQ_0Znp"
      },
      "outputs": [],
      "source": [
        "np.save(\"actual_vector.npy\", np.array(actual_vector))"
      ]
    },
    {
      "cell_type": "code",
      "execution_count": null,
      "metadata": {
        "id": "iCWjz5q70Znq"
      },
      "outputs": [],
      "source": [
        "actual_vector = np.load(\"actual_vector.npy\")\n",
        "predict_vector = np.load(\"predict_vector.npy\")\n",
        "similarities = np.load(\"similarities.npy\")"
      ]
    },
    {
      "cell_type": "code",
      "execution_count": null,
      "metadata": {
        "id": "cxlsE1DG0Znq"
      },
      "outputs": [],
      "source": [
        "sum(predict_vector != actual_vector) / len(actual_vector)"
      ]
    },
    {
      "cell_type": "code",
      "execution_count": null,
      "metadata": {
        "id": "Saz1XOuOe2j5",
        "scrolled": true
      },
      "outputs": [],
      "source": [
        "from pycm import ConfusionMatrix\n",
        "cm = ConfusionMatrix(actual_vector, predict_vector)\n",
        "cm"
      ]
    },
    {
      "cell_type": "code",
      "execution_count": null,
      "metadata": {
        "id": "5PwOaGMg0Zns"
      },
      "outputs": [],
      "source": [
        "cm.plot()"
      ]
    },
    {
      "cell_type": "code",
      "execution_count": null,
      "metadata": {
        "id": "7D2DR7zl0Zns"
      },
      "outputs": [],
      "source": [
        "print(cm)"
      ]
    },
    {
      "cell_type": "code",
      "execution_count": null,
      "metadata": {
        "id": "al-xe_3Z0Znt"
      },
      "outputs": [],
      "source": [
        "print(cm.overall_stat[\"F1 Macro\"], cm.overall_stat[\"F1 Micro\"])"
      ]
    },
    {
      "cell_type": "code",
      "execution_count": null,
      "metadata": {
        "id": "b4rUuXX60Znu"
      },
      "outputs": [],
      "source": [
        "for threshold in np.arange(0.94, 0.98, 0.001):\n",
        "    predict_vector = (similarities > threshold) * 1\n",
        "    cm = ConfusionMatrix(actual_vector, predict_vector)\n",
        "    print(threshold, cm.overall_stat[\"F1 Macro\"], cm.overall_stat[\"F1 Micro\"])"
      ]
    },
    {
      "cell_type": "code",
      "execution_count": null,
      "metadata": {
        "id": "8l4b4M7zIt_r"
      },
      "outputs": [],
      "source": [
        "print(speech3)"
      ]
    },
    {
      "cell_type": "code",
      "execution_count": null,
      "metadata": {
        "id": "bxNUxSj-1l5a"
      },
      "outputs": [],
      "source": [
        "inputs= feature_extractor(\n",
        "  speech3, sampling_rate=16000, return_tensors=\"pt\", padding=True\n",
        "    )\n",
        "\n",
        "with torch.no_grad():\n",
        "    embeddings = model(**inputs).embeddings\n",
        "\n",
        "embeddings = torch.nn.functional.normalize(embeddings, dim=-1).cpu()\n",
        "\n",
        "# the resulting embeddings can be used for cosine similarity-based retrieval\n",
        "cosine_sim = torch.nn.CosineSimilarity(dim=-1)\n",
        "similarity = cosine_sim(embeddings[0], embeddings[1])\n",
        "threshold = 0.9  # the optimal threshold is dataset-dependent\n",
        "if similarity < threshold:\n",
        "    print(\"Speakers are not the same!\")\n",
        "round(similarity.item(), 2)"
      ]
    },
    {
      "cell_type": "code",
      "execution_count": null,
      "metadata": {
        "id": "zCUMVBwTJDUq"
      },
      "outputs": [],
      "source": [
        "from pycm import *\n",
        "import numpy as np\n",
        "import copy\n",
        "import matplotlib.pyplot as plt\n",
        "from sklearn.metrics import confusion_matrix\n",
        "import os"
      ]
    },
    {
      "cell_type": "code",
      "source": [
        "def mix_audio(signal, noise, snr):\n",
        "    # if the audio is longer than the noise\n",
        "    # play the noise in repeat for the duration of the audio\n",
        "    noise = noise[np.arange(len(signal)) % len(noise)]\n",
        "    \n",
        "    # if the audio is shorter than the noise\n",
        "    # this is important if loading resulted in \n",
        "    # uint8 or uint16 types, because it would cause overflow\n",
        "    # when squaring and calculating mean\n",
        "    noise = noise.astype(np.float32)\n",
        "    signal = signal.astype(np.float32)\n",
        "    \n",
        "    # get the initial energy for reference\n",
        "    signal_energy = np.mean(signal**2)\n",
        "    noise_energy = np.mean(noise**2)\n",
        "    # calculates the gain to be applied to the noise \n",
        "    # to achieve the given SNR\n",
        "    g = np.sqrt(10.0 ** (-snr/10) * signal_energy / noise_energy)\n",
        "    \n",
        "    # Assumes signal and noise to be decorrelated\n",
        "    # and calculate (a, b) such that energy of \n",
        "    # a*signal + b*noise matches the energy of the input signal\n",
        "    a = np.sqrt(1 / (1 + g**2))\n",
        "    b = np.sqrt(g**2 / (1 + g**2))\n",
        "    print(g, a, b)\n",
        "    # mix the signals\n",
        "    return a * signal + b * noise"
      ],
      "metadata": {
        "id": "Z5U7DJU1lxqQ"
      },
      "execution_count": 1,
      "outputs": []
    },
    {
      "cell_type": "code",
      "source": [
        "end = time.time()\n",
        "print(\"Execution time of the program is(RTF)- \", end-start)"
      ],
      "metadata": {
        "id": "sxgL_enQtl4Z"
      },
      "execution_count": null,
      "outputs": []
    }
  ],
  "metadata": {
    "colab": {
      "collapsed_sections": [],
      "name": "Copy of wavLM_base_AGP.ipynb",
      "provenance": [],
      "include_colab_link": true
    },
    "gpuClass": "standard",
    "kernelspec": {
      "display_name": "Python 3 (ipykernel)",
      "language": "python",
      "name": "python3"
    },
    "language_info": {
      "codemirror_mode": {
        "name": "ipython",
        "version": 3
      },
      "file_extension": ".py",
      "mimetype": "text/x-python",
      "name": "python",
      "nbconvert_exporter": "python",
      "pygments_lexer": "ipython3",
      "version": "3.9.7"
    }
  },
  "nbformat": 4,
  "nbformat_minor": 0
}