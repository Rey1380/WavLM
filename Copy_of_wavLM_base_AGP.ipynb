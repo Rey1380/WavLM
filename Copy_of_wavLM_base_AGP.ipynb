{
  "cells": [
    {
      "cell_type": "markdown",
      "metadata": {
        "id": "view-in-github",
        "colab_type": "text"
      },
      "source": [
        "<a href=\"https://colab.research.google.com/github/Rey1380/WavLM/blob/main/Copy_of_wavLM_base_AGP.ipynb\" target=\"_parent\"><img src=\"https://colab.research.google.com/assets/colab-badge.svg\" alt=\"Open In Colab\"/></a>"
      ]
    },
    {
      "cell_type": "markdown",
      "metadata": {
        "id": "DkAwrLGP79Ku"
      },
      "source": [
        "# WavLM_base"
      ]
    },
    {
      "cell_type": "code",
      "source": [
        "!pip install time"
      ],
      "metadata": {
        "id": "g1rN5dmlEHSd"
      },
      "execution_count": null,
      "outputs": []
    },
    {
      "cell_type": "code",
      "source": [
        "import time\n",
        "start = time.time()"
      ],
      "metadata": {
        "id": "bQhy2HQfD-FH"
      },
      "execution_count": null,
      "outputs": []
    },
    {
      "cell_type": "code",
      "execution_count": 6,
      "metadata": {
        "id": "8u7_ibrk89Pw",
        "colab": {
          "base_uri": "https://localhost:8080/"
        },
        "outputId": "985b1d80-5312-4dd3-c178-ec78dcc66165"
      },
      "outputs": [
        {
          "output_type": "stream",
          "name": "stdout",
          "text": [
            "Looking in indexes: https://pypi.org/simple, https://us-python.pkg.dev/colab-wheels/public/simple/\n",
            "Requirement already satisfied: pycm==3.5 in /usr/local/lib/python3.7/dist-packages (3.5)\n",
            "Requirement already satisfied: art>=1.8 in /usr/local/lib/python3.7/dist-packages (from pycm==3.5) (5.7)\n",
            "Requirement already satisfied: numpy>=1.9.0 in /usr/local/lib/python3.7/dist-packages (from pycm==3.5) (1.21.6)\n",
            "Looking in indexes: https://pypi.org/simple, https://us-python.pkg.dev/colab-wheels/public/simple/\n",
            "Requirement already satisfied: transformers in /usr/local/lib/python3.7/dist-packages (4.21.0)\n",
            "Requirement already satisfied: huggingface-hub<1.0,>=0.1.0 in /usr/local/lib/python3.7/dist-packages (from transformers) (0.8.1)\n",
            "Requirement already satisfied: requests in /usr/local/lib/python3.7/dist-packages (from transformers) (2.23.0)\n",
            "Requirement already satisfied: packaging>=20.0 in /usr/local/lib/python3.7/dist-packages (from transformers) (21.3)\n",
            "Requirement already satisfied: pyyaml>=5.1 in /usr/local/lib/python3.7/dist-packages (from transformers) (6.0)\n",
            "Requirement already satisfied: tokenizers!=0.11.3,<0.13,>=0.11.1 in /usr/local/lib/python3.7/dist-packages (from transformers) (0.12.1)\n",
            "Requirement already satisfied: importlib-metadata in /usr/local/lib/python3.7/dist-packages (from transformers) (4.12.0)\n",
            "Requirement already satisfied: numpy>=1.17 in /usr/local/lib/python3.7/dist-packages (from transformers) (1.21.6)\n",
            "Requirement already satisfied: tqdm>=4.27 in /usr/local/lib/python3.7/dist-packages (from transformers) (4.64.0)\n",
            "Requirement already satisfied: filelock in /usr/local/lib/python3.7/dist-packages (from transformers) (3.7.1)\n",
            "Requirement already satisfied: regex!=2019.12.17 in /usr/local/lib/python3.7/dist-packages (from transformers) (2022.6.2)\n",
            "Requirement already satisfied: typing-extensions>=3.7.4.3 in /usr/local/lib/python3.7/dist-packages (from huggingface-hub<1.0,>=0.1.0->transformers) (4.1.1)\n",
            "Requirement already satisfied: pyparsing!=3.0.5,>=2.0.2 in /usr/local/lib/python3.7/dist-packages (from packaging>=20.0->transformers) (3.0.9)\n",
            "Requirement already satisfied: zipp>=0.5 in /usr/local/lib/python3.7/dist-packages (from importlib-metadata->transformers) (3.8.1)\n",
            "Requirement already satisfied: certifi>=2017.4.17 in /usr/local/lib/python3.7/dist-packages (from requests->transformers) (2022.6.15)\n",
            "Requirement already satisfied: urllib3!=1.25.0,!=1.25.1,<1.26,>=1.21.1 in /usr/local/lib/python3.7/dist-packages (from requests->transformers) (1.24.3)\n",
            "Requirement already satisfied: idna<3,>=2.5 in /usr/local/lib/python3.7/dist-packages (from requests->transformers) (2.10)\n",
            "Requirement already satisfied: chardet<4,>=3.0.2 in /usr/local/lib/python3.7/dist-packages (from requests->transformers) (3.0.4)\n"
          ]
        }
      ],
      "source": [
        "#!pip install  transformers \n",
        "#!pip install --quiet datasets\n",
        "!pip install pycm==3.5\n",
        "!pip install transformers"
      ]
    },
    {
      "cell_type": "code",
      "source": [
        "from google.colab import drive\n",
        "drive.mount('/content/drive')"
      ],
      "metadata": {
        "colab": {
          "base_uri": "https://localhost:8080/"
        },
        "id": "qTN5vVLa19E6",
        "outputId": "cd8213c3-05cb-4ac3-b74f-fe21871e3136"
      },
      "execution_count": 7,
      "outputs": [
        {
          "output_type": "stream",
          "name": "stdout",
          "text": [
            "Drive already mounted at /content/drive; to attempt to forcibly remount, call drive.mount(\"/content/drive\", force_remount=True).\n"
          ]
        }
      ]
    },
    {
      "cell_type": "code",
      "execution_count": 8,
      "metadata": {
        "id": "CP1jqlTf9D4e"
      },
      "outputs": [],
      "source": [
        "from transformers import Wav2Vec2FeatureExtractor, WavLMForXVector\n",
        "import torch\n",
        "import librosa\n",
        "import IPython.display as ipd\n",
        "import numpy as np"
      ]
    },
    {
      "cell_type": "code",
      "execution_count": 10,
      "metadata": {
        "colab": {
          "base_uri": "https://localhost:8080/"
        },
        "id": "CNEmqbBM0Zng",
        "outputId": "85fee326-df4f-4190-9291-f6340647b29e"
      },
      "outputs": [
        {
          "output_type": "stream",
          "name": "stderr",
          "text": [
            "/usr/local/lib/python3.7/dist-packages/ipykernel_launcher.py:10: DeprecationWarning: `np.float` is a deprecated alias for the builtin `float`. To silence this warning, use `float` by itself. Doing this will not modify any behavior and is safe. If you specifically wanted the numpy scalar type, use `np.float64` here.\n",
            "Deprecated in NumPy 1.20; for more details and guidance: https://numpy.org/devdocs/release/1.20.0-notes.html#deprecations\n",
            "  # Remove the CWD from sys.path while we load stuff.\n"
          ]
        },
        {
          "output_type": "stream",
          "name": "stdout",
          "text": [
            "{'spk-019': array([ 0.00018955,  0.00288207,  0.00156846, ..., -0.01427775,\n",
            "       -0.0177972 , -0.03081423]), 'spk-020': array([ 0.02116822,  0.02917664,  0.01669931, ..., -0.00306366,\n",
            "       -0.00255543, -0.00438587]), 'spk-001': array([-0.08406139, -0.1254356 , -0.1483495 , ..., -0.00256425,\n",
            "       -0.00114273, -0.00204607]), 'spk-021': array([0.01639675, 0.01633458, 0.01000406, ..., 0.01261686, 0.01196019,\n",
            "       0.01579024]), 'spk-022': array([-0.01138564, -0.01373832, -0.0150244 , ..., -0.00884775,\n",
            "       -0.00879203, -0.00646823]), 'spk-023': array([-0.03847896, -0.0477297 , -0.03763648, ..., -0.02764628,\n",
            "       -0.03811038, -0.05557559]), 'spk-024': array([0.00253948, 0.00392595, 0.00347412, ..., 0.08400197, 0.09353643,\n",
            "       0.09191896]), 'spk-026': array([ 0.07149224,  0.0779906 ,  0.04906847, ..., -0.0079127 ,\n",
            "       -0.02464486, -0.03416422]), 'spk-028': array([-0.08422334, -0.07056539, -0.01144069, ..., -0.00811272,\n",
            "       -0.01628621,  0.00366303]), 'spk-029': array([ 0.0047151 , -0.01120221,  0.01268437, ..., -0.00146784,\n",
            "       -0.00258022, -0.00568841]), 'spk-030': array([-0.00450797, -0.00215923, -0.00053694, ...,  0.02410052,\n",
            "        0.01940534,  0.02372802]), 'spk-003': array([-0.05631015, -0.07828212, -0.06623424, ..., -0.01848941,\n",
            "       -0.00274489, -0.0012848 ]), 'spk-004': array([-0.02608327, -0.04917492, -0.0703113 , ..., -0.11955056,\n",
            "       -0.16336042, -0.17030799]), 'spk-006': array([-0.06926119, -0.01315342,  0.06224727, ...,  0.00637571,\n",
            "       -0.00337433,  0.00921227]), 'spk-005': array([ 0.00854963,  0.02750194,  0.04704479, ..., -0.14417423,\n",
            "       -0.1461443 , -0.12671747]), 'spk-007': array([ 0.00716921, -0.00016329,  0.01059277, ...,  0.00193461,\n",
            "        0.00455923,  0.00370922]), 'spk-008': array([-0.01303574, -0.00816735, -0.01066163, ..., -0.00088866,\n",
            "       -0.00418275,  0.00631201]), 'spk-009': array([-3.72344254e-05, -9.65755156e-05, -8.38986528e-04, ...,\n",
            "        5.48484928e-04,  1.88109948e-02,  3.34534133e-02]), 'spk-010': array([-0.07095312, -0.09749051, -0.08130323, ..., -0.00499348,\n",
            "       -0.00372434, -0.00277363]), 'spk-011': array([ 0.00305772, -0.02778809, -0.01867172, ..., -0.0034203 ,\n",
            "       -0.00351904, -0.04239385]), 'spk-012': array([-0.00751194, -0.01548407, -0.01875299, ..., -0.08515383,\n",
            "       -0.04493426,  0.00199403]), 'spk-013': array([-0.05876405, -0.05622065, -0.03042584, ..., -0.00216404,\n",
            "       -0.00410752, -0.00751539]), 'spk-014': array([ 0.09466905,  0.12777557,  0.12599785, ..., -0.08041309,\n",
            "       -0.07285291, -0.06254867]), 'spk-015': array([-0.06347297, -0.05673835, -0.00400269, ...,  0.00054389,\n",
            "       -0.00164078, -0.0012589 ]), 'spk-016': array([ 0.001927  ,  0.00574516,  0.0088014 , ..., -0.01734172,\n",
            "       -0.02184242, -0.01610119]), 'spk-017': array([-0.06125737, -0.07264472, -0.06907891, ...,  0.02246878,\n",
            "       -0.03113934, -0.11195809]), 'spk-018': array([ 0.01167598,  0.01743978,  0.01431583, ...,  0.00281516,\n",
            "       -0.02258913, -0.04927901]), 'spk-002': array([ 0.01964283,  0.02555892,  0.02026292, ..., -0.10505267,\n",
            "       -0.1010824 , -0.09278545]), 'spk-025': array([0.00541264, 0.00744953, 0.00632618, ..., 0.11301337, 0.08195477,\n",
            "       0.08156241]), 'spk-027': array([ 0.00464553, -0.00388625, -0.01249579, ...,  0.00250296,\n",
            "        0.00513273,  0.00535753])}\n"
          ]
        }
      ],
      "source": [
        "import os\n",
        "spk2spch = {}\n",
        "PATH = \"/content/drive/MyDrive/intern/farsdot_enrollment2/\"\n",
        "for fname in next(os.walk(PATH))[2]:\n",
        "    spk_id, _ = fname.split(\"F\")\n",
        "    speech_array, sample_rate = librosa.load(PATH + fname)\n",
        "    STD_n= 0.001\n",
        "    noise=np.random.normal(0, STD_n, speech_array.shape[0])\n",
        "    speech_array=noise+speech_array\n",
        "    speech_array = speech_array.squeeze().astype(np.float)\n",
        "    speech_array = librosa.resample(np.array(speech_array), sample_rate, 16000)\n",
        "    \n",
        "    spk2spch[f\"spk-{spk_id}\"] = speech_array\n",
        "print(spk2spch)"
      ]
    },
    {
      "cell_type": "code",
      "source": [
        "!pip install datasets"
      ],
      "metadata": {
        "colab": {
          "base_uri": "https://localhost:8080/",
          "height": 1000
        },
        "id": "V-_OL_E24E1t",
        "outputId": "5d693e6e-78e2-4f94-e8c2-8fad0d5d6c1f"
      },
      "execution_count": 11,
      "outputs": [
        {
          "output_type": "stream",
          "name": "stdout",
          "text": [
            "Looking in indexes: https://pypi.org/simple, https://us-python.pkg.dev/colab-wheels/public/simple/\n",
            "Collecting datasets\n",
            "  Downloading datasets-2.4.0-py3-none-any.whl (365 kB)\n",
            "\u001b[K     |████████████████████████████████| 365 kB 13.3 MB/s \n",
            "\u001b[?25hRequirement already satisfied: pandas in /usr/local/lib/python3.7/dist-packages (from datasets) (1.3.5)\n",
            "Requirement already satisfied: tqdm>=4.62.1 in /usr/local/lib/python3.7/dist-packages (from datasets) (4.64.0)\n",
            "Requirement already satisfied: dill<0.3.6 in /usr/local/lib/python3.7/dist-packages (from datasets) (0.3.5.1)\n",
            "Requirement already satisfied: requests>=2.19.0 in /usr/local/lib/python3.7/dist-packages (from datasets) (2.23.0)\n",
            "Collecting fsspec[http]>=2021.11.1\n",
            "  Downloading fsspec-2022.7.1-py3-none-any.whl (141 kB)\n",
            "\u001b[K     |████████████████████████████████| 141 kB 58.4 MB/s \n",
            "\u001b[?25hRequirement already satisfied: importlib-metadata in /usr/local/lib/python3.7/dist-packages (from datasets) (4.12.0)\n",
            "Requirement already satisfied: numpy>=1.17 in /usr/local/lib/python3.7/dist-packages (from datasets) (1.21.6)\n",
            "Collecting xxhash\n",
            "  Downloading xxhash-3.0.0-cp37-cp37m-manylinux_2_17_x86_64.manylinux2014_x86_64.whl (212 kB)\n",
            "\u001b[K     |████████████████████████████████| 212 kB 74.1 MB/s \n",
            "\u001b[?25hRequirement already satisfied: packaging in /usr/local/lib/python3.7/dist-packages (from datasets) (21.3)\n",
            "Requirement already satisfied: pyarrow>=6.0.0 in /usr/local/lib/python3.7/dist-packages (from datasets) (6.0.1)\n",
            "Collecting responses<0.19\n",
            "  Downloading responses-0.18.0-py3-none-any.whl (38 kB)\n",
            "Requirement already satisfied: huggingface-hub<1.0.0,>=0.1.0 in /usr/local/lib/python3.7/dist-packages (from datasets) (0.8.1)\n",
            "Requirement already satisfied: aiohttp in /usr/local/lib/python3.7/dist-packages (from datasets) (3.8.1)\n",
            "Collecting multiprocess\n",
            "  Downloading multiprocess-0.70.13-py37-none-any.whl (115 kB)\n",
            "\u001b[K     |████████████████████████████████| 115 kB 70.1 MB/s \n",
            "\u001b[?25hRequirement already satisfied: filelock in /usr/local/lib/python3.7/dist-packages (from huggingface-hub<1.0.0,>=0.1.0->datasets) (3.7.1)\n",
            "Requirement already satisfied: pyyaml>=5.1 in /usr/local/lib/python3.7/dist-packages (from huggingface-hub<1.0.0,>=0.1.0->datasets) (6.0)\n",
            "Requirement already satisfied: typing-extensions>=3.7.4.3 in /usr/local/lib/python3.7/dist-packages (from huggingface-hub<1.0.0,>=0.1.0->datasets) (4.1.1)\n",
            "Requirement already satisfied: pyparsing!=3.0.5,>=2.0.2 in /usr/local/lib/python3.7/dist-packages (from packaging->datasets) (3.0.9)\n",
            "Requirement already satisfied: idna<3,>=2.5 in /usr/local/lib/python3.7/dist-packages (from requests>=2.19.0->datasets) (2.10)\n",
            "Requirement already satisfied: chardet<4,>=3.0.2 in /usr/local/lib/python3.7/dist-packages (from requests>=2.19.0->datasets) (3.0.4)\n",
            "Requirement already satisfied: certifi>=2017.4.17 in /usr/local/lib/python3.7/dist-packages (from requests>=2.19.0->datasets) (2022.6.15)\n",
            "Requirement already satisfied: urllib3!=1.25.0,!=1.25.1,<1.26,>=1.21.1 in /usr/local/lib/python3.7/dist-packages (from requests>=2.19.0->datasets) (1.24.3)\n",
            "Collecting urllib3!=1.25.0,!=1.25.1,<1.26,>=1.21.1\n",
            "  Downloading urllib3-1.25.11-py2.py3-none-any.whl (127 kB)\n",
            "\u001b[K     |████████████████████████████████| 127 kB 58.8 MB/s \n",
            "\u001b[?25hRequirement already satisfied: frozenlist>=1.1.1 in /usr/local/lib/python3.7/dist-packages (from aiohttp->datasets) (1.3.0)\n",
            "Requirement already satisfied: async-timeout<5.0,>=4.0.0a3 in /usr/local/lib/python3.7/dist-packages (from aiohttp->datasets) (4.0.2)\n",
            "Requirement already satisfied: asynctest==0.13.0 in /usr/local/lib/python3.7/dist-packages (from aiohttp->datasets) (0.13.0)\n",
            "Requirement already satisfied: attrs>=17.3.0 in /usr/local/lib/python3.7/dist-packages (from aiohttp->datasets) (22.1.0)\n",
            "Requirement already satisfied: aiosignal>=1.1.2 in /usr/local/lib/python3.7/dist-packages (from aiohttp->datasets) (1.2.0)\n",
            "Requirement already satisfied: multidict<7.0,>=4.5 in /usr/local/lib/python3.7/dist-packages (from aiohttp->datasets) (6.0.2)\n",
            "Requirement already satisfied: charset-normalizer<3.0,>=2.0 in /usr/local/lib/python3.7/dist-packages (from aiohttp->datasets) (2.1.0)\n",
            "Requirement already satisfied: yarl<2.0,>=1.0 in /usr/local/lib/python3.7/dist-packages (from aiohttp->datasets) (1.7.2)\n",
            "Requirement already satisfied: zipp>=0.5 in /usr/local/lib/python3.7/dist-packages (from importlib-metadata->datasets) (3.8.1)\n",
            "Requirement already satisfied: python-dateutil>=2.7.3 in /usr/local/lib/python3.7/dist-packages (from pandas->datasets) (2.8.2)\n",
            "Requirement already satisfied: pytz>=2017.3 in /usr/local/lib/python3.7/dist-packages (from pandas->datasets) (2022.1)\n",
            "Requirement already satisfied: six>=1.5 in /usr/local/lib/python3.7/dist-packages (from python-dateutil>=2.7.3->pandas->datasets) (1.15.0)\n",
            "Installing collected packages: urllib3, fsspec, xxhash, responses, multiprocess, datasets\n",
            "  Attempting uninstall: urllib3\n",
            "    Found existing installation: urllib3 1.24.3\n",
            "    Uninstalling urllib3-1.24.3:\n",
            "      Successfully uninstalled urllib3-1.24.3\n",
            "Successfully installed datasets-2.4.0 fsspec-2022.7.1 multiprocess-0.70.13 responses-0.18.0 urllib3-1.25.11 xxhash-3.0.0\n"
          ]
        },
        {
          "output_type": "display_data",
          "data": {
            "application/vnd.colab-display-data+json": {
              "pip_warning": {
                "packages": [
                  "urllib3"
                ]
              }
            }
          },
          "metadata": {}
        }
      ]
    },
    {
      "cell_type": "code",
      "execution_count": 13,
      "metadata": {
        "colab": {
          "base_uri": "https://localhost:8080/",
          "height": 113,
          "referenced_widgets": [
            "12bd276c999548ff80fecd8f716ebf40",
            "983808f0ba0f49479981386e894e17fd",
            "a60e3cdafee34624a08dceb4cc9ac507",
            "509b17c975714ed8a6ceeb0dc24c3d67",
            "be79e4264bbd4c9e8718cb3e1cd19845",
            "81cbd47b34bb4586845b91af8b883ee3",
            "6d88c3d6bb2d4313b807dae3831af8aa",
            "006cb988a5084d69ab8c978e8e6d7e51",
            "a5f8c7f82a474f2b8e7ab51890829330",
            "ff8a47618b044a5aa162d19f2367ecf4",
            "d33fd7739a2948b78b71109bda789bb1",
            "eba13cb25d7048ac97ede2f039eb334f",
            "51de48f49ec744dbb0aaf9050590e202",
            "cddc261e55b7444992e136a497049186",
            "6b9d00f89716454b89941ff18b18fdbb",
            "bca8323d6bc049008f56e2f9d531f87a",
            "b20ac53868324fd4a3d6a130d6b48862",
            "c13e87a5c07147d8bf43ed81f201d676",
            "12abf5fc1a1a4edaa414285df0a38179",
            "fe24a9958e714a60ada6e0f8c8e1b3ae",
            "6a6041c2680c475c92db37343623e973",
            "8511aa67ad5c4848abf77754b4cf9004",
            "33cd36dc629841f8862fc57cba69e2c2",
            "78ddab909c354b9ab74bf1cd1c15d6b7",
            "59bab37d4aa244528498488866d03d32",
            "bf7c152cfea14f2da870d3ff5ac75f37",
            "545197b2763c43719f9d7bcb3628e0fb",
            "e397bdc40f774e0c99b186e2bf96a33c",
            "1684f0a87c484c39b4ee15e3a29d2424",
            "912beb42531f4df498655fb20fb27eb9",
            "48d9bb60fcb44b5ba5fea8ba439f4b6c",
            "4abd8255a15649bfb3da220092b86c4e",
            "2d8367839aca40e1a30382122d8c0250"
          ]
        },
        "id": "fWNtdHBI0Znh",
        "outputId": "8707dc98-e780-405d-e2ea-23fef191728c"
      },
      "outputs": [
        {
          "output_type": "display_data",
          "data": {
            "text/plain": [
              "Downloading preprocessor_config.json:   0%|          | 0.00/215 [00:00<?, ?B/s]"
            ],
            "application/vnd.jupyter.widget-view+json": {
              "version_major": 2,
              "version_minor": 0,
              "model_id": "12bd276c999548ff80fecd8f716ebf40"
            }
          },
          "metadata": {}
        },
        {
          "output_type": "display_data",
          "data": {
            "text/plain": [
              "Downloading config.json:   0%|          | 0.00/57.3k [00:00<?, ?B/s]"
            ],
            "application/vnd.jupyter.widget-view+json": {
              "version_major": 2,
              "version_minor": 0,
              "model_id": "eba13cb25d7048ac97ede2f039eb334f"
            }
          },
          "metadata": {}
        },
        {
          "output_type": "display_data",
          "data": {
            "text/plain": [
              "Downloading pytorch_model.bin:   0%|          | 0.00/386M [00:00<?, ?B/s]"
            ],
            "application/vnd.jupyter.widget-view+json": {
              "version_major": 2,
              "version_minor": 0,
              "model_id": "33cd36dc629841f8862fc57cba69e2c2"
            }
          },
          "metadata": {}
        }
      ],
      "source": [
        "from transformers import Wav2Vec2FeatureExtractor, WavLMForXVector\n",
        "from datasets import load_dataset\n",
        "import torch\n",
        "feature_extractor = Wav2Vec2FeatureExtractor.from_pretrained(\"microsoft/wavlm-base-plus-sv\")\n",
        "model = WavLMForXVector.from_pretrained(\"microsoft/wavlm-base-plus-sv\")\n",
        "threshold = 0.9\n",
        "similarities = []"
      ]
    },
    {
      "cell_type": "code",
      "execution_count": null,
      "metadata": {
        "colab": {
          "base_uri": "https://localhost:8080/"
        },
        "id": "f_NlDq4v0Zni",
        "outputId": "856aeb82-b7fc-4365-cee8-6d4d1da2b7ea"
      },
      "outputs": [
        {
          "output_type": "stream",
          "name": "stdout",
          "text": [
            "/content/drive/MyDrive/intern/wavlm large/farsdot/001F02.WAV.WAV spk-001 target\n"
          ]
        },
        {
          "output_type": "stream",
          "name": "stderr",
          "text": [
            "/usr/local/lib/python3.7/dist-packages/transformers/models/wavlm/modeling_wavlm.py:1755: UserWarning: __floordiv__ is deprecated, and its behavior will change in a future version of pytorch. It currently rounds toward 0 (like the 'trunc' function NOT 'floor'). This results in incorrect rounding for negative values. To keep the current behavior, use torch.div(a, b, rounding_mode='trunc'), or for actual floor division, use torch.div(a, b, rounding_mode='floor').\n",
            "  return (input_length - kernel_size) // stride + 1\n"
          ]
        },
        {
          "output_type": "stream",
          "name": "stdout",
          "text": [
            "0.9759833216667175\n",
            "/content/drive/MyDrive/intern/wavlm large/farsdot/001F03.WAV.WAV spk-001 target\n",
            "0.9831200242042542\n",
            "/content/drive/MyDrive/intern/wavlm large/farsdot/001F04.WAV.WAV spk-001 target\n",
            "0.9832634925842285\n",
            "/content/drive/MyDrive/intern/wavlm large/farsdot/001F05.WAV.WAV spk-001 target\n",
            "0.9568886756896973\n",
            "/content/drive/MyDrive/intern/wavlm large/farsdot/001F06.WAV.WAV spk-001 target\n",
            "0.9583774209022522\n",
            "/content/drive/MyDrive/intern/wavlm large/farsdot/001F07.WAV.WAV spk-001 target\n",
            "0.9853382110595703\n",
            "/content/drive/MyDrive/intern/wavlm large/farsdot/001F08.WAV.WAV spk-001 target\n",
            "0.9743375182151794\n",
            "/content/drive/MyDrive/intern/wavlm large/farsdot/001F09.WAV.WAV spk-001 target\n",
            "0.9792191982269287\n",
            "/content/drive/MyDrive/intern/wavlm large/farsdot/001F10.WAV.WAV spk-001 target\n",
            "0.9693450927734375\n",
            "/content/drive/MyDrive/intern/wavlm large/farsdot/002F02.wav.wav spk-001 nontarget\n",
            "0.7038866281509399\n",
            "/content/drive/MyDrive/intern/wavlm large/farsdot/002F03.wav.wav spk-001 nontarget\n",
            "0.7602691650390625\n",
            "/content/drive/MyDrive/intern/wavlm large/farsdot/002F04.wav.wav spk-001 nontarget\n",
            "0.6200130581855774\n",
            "/content/drive/MyDrive/intern/wavlm large/farsdot/002F05.wav.wav spk-001 nontarget\n",
            "0.6832836866378784\n",
            "/content/drive/MyDrive/intern/wavlm large/farsdot/002F06.wav.wav spk-001 nontarget\n",
            "0.6250281929969788\n",
            "/content/drive/MyDrive/intern/wavlm large/farsdot/002F07.wav.wav spk-001 nontarget\n",
            "0.7233583927154541\n",
            "/content/drive/MyDrive/intern/wavlm large/farsdot/002F08.wav.wav spk-001 nontarget\n",
            "0.6930505037307739\n",
            "/content/drive/MyDrive/intern/wavlm large/farsdot/002F09.wav.wav spk-001 nontarget\n",
            "0.6669937968254089\n",
            "/content/drive/MyDrive/intern/wavlm large/farsdot/002F10.wav.wav spk-001 nontarget\n",
            "0.6723754405975342\n",
            "/content/drive/MyDrive/intern/wavlm large/farsdot/003F02.WAV.WAV spk-001 nontarget\n",
            "0.35893237590789795\n",
            "/content/drive/MyDrive/intern/wavlm large/farsdot/003F03.WAV.WAV spk-001 nontarget\n",
            "0.40977054834365845\n",
            "/content/drive/MyDrive/intern/wavlm large/farsdot/003F04.WAV.WAV spk-001 nontarget\n",
            "0.3604402244091034\n",
            "/content/drive/MyDrive/intern/wavlm large/farsdot/003F05.WAV.WAV spk-001 nontarget\n",
            "0.3655713200569153\n",
            "/content/drive/MyDrive/intern/wavlm large/farsdot/003F06.WAV.WAV spk-001 nontarget\n",
            "0.37278127670288086\n",
            "/content/drive/MyDrive/intern/wavlm large/farsdot/003F07.WAV.WAV spk-001 nontarget\n",
            "0.41163840889930725\n",
            "/content/drive/MyDrive/intern/wavlm large/farsdot/003F08.WAV.WAV spk-001 nontarget\n",
            "0.3680185079574585\n",
            "/content/drive/MyDrive/intern/wavlm large/farsdot/003F09.WAV.WAV spk-001 nontarget\n",
            "0.3853103220462799\n",
            "/content/drive/MyDrive/intern/wavlm large/farsdot/003F10.WAV.WAV spk-001 nontarget\n",
            "0.38938647508621216\n",
            "/content/drive/MyDrive/intern/wavlm large/farsdot/004F02.WAV.WAV spk-001 nontarget\n",
            "0.4734230637550354\n",
            "/content/drive/MyDrive/intern/wavlm large/farsdot/004F03.WAV.WAV spk-001 nontarget\n",
            "0.4443519711494446\n",
            "/content/drive/MyDrive/intern/wavlm large/farsdot/004F04.WAV.WAV spk-001 nontarget\n",
            "0.47400426864624023\n",
            "/content/drive/MyDrive/intern/wavlm large/farsdot/004F05.WAV.WAV spk-001 nontarget\n",
            "0.4912232756614685\n",
            "/content/drive/MyDrive/intern/wavlm large/farsdot/004F06.WAV.WAV spk-001 nontarget\n",
            "0.4354296028614044\n",
            "/content/drive/MyDrive/intern/wavlm large/farsdot/004F07.WAV.WAV spk-001 nontarget\n",
            "0.46392327547073364\n",
            "/content/drive/MyDrive/intern/wavlm large/farsdot/004F08.WAV.WAV spk-001 nontarget\n",
            "0.47818541526794434\n",
            "/content/drive/MyDrive/intern/wavlm large/farsdot/004F09.WAV.WAV spk-001 nontarget\n",
            "0.4705749452114105\n",
            "/content/drive/MyDrive/intern/wavlm large/farsdot/004F10.WAV.WAV spk-001 nontarget\n",
            "0.5175469517707825\n",
            "/content/drive/MyDrive/intern/wavlm large/farsdot/005F02.WAV.WAV spk-001 nontarget\n",
            "0.6536514759063721\n",
            "/content/drive/MyDrive/intern/wavlm large/farsdot/005F03.WAV.WAV spk-001 nontarget\n",
            "0.7141759395599365\n",
            "/content/drive/MyDrive/intern/wavlm large/farsdot/005F04.WAV.WAV spk-001 nontarget\n",
            "0.728081464767456\n",
            "/content/drive/MyDrive/intern/wavlm large/farsdot/005F05.WAV.WAV spk-001 nontarget\n",
            "0.7119184732437134\n",
            "/content/drive/MyDrive/intern/wavlm large/farsdot/005F06.WAV.WAV spk-001 nontarget\n",
            "0.7188082933425903\n",
            "/content/drive/MyDrive/intern/wavlm large/farsdot/005F07.WAV.WAV spk-001 nontarget\n",
            "0.721806526184082\n",
            "/content/drive/MyDrive/intern/wavlm large/farsdot/005F08.WAV.WAV spk-001 nontarget\n",
            "0.6748933792114258\n",
            "/content/drive/MyDrive/intern/wavlm large/farsdot/005F09.WAV.WAV spk-001 nontarget\n",
            "0.6848031282424927\n",
            "/content/drive/MyDrive/intern/wavlm large/farsdot/005F10.WAV.WAV spk-001 nontarget\n",
            "0.6902918219566345\n",
            "/content/drive/MyDrive/intern/wavlm large/farsdot/006F02.WAV.WAV spk-001 nontarget\n",
            "0.38115620613098145\n",
            "/content/drive/MyDrive/intern/wavlm large/farsdot/006F03.WAV.WAV spk-001 nontarget\n",
            "0.36901965737342834\n",
            "/content/drive/MyDrive/intern/wavlm large/farsdot/006F04.WAV.WAV spk-001 nontarget\n",
            "0.4030006527900696\n",
            "/content/drive/MyDrive/intern/wavlm large/farsdot/006F05.WAV.WAV spk-001 nontarget\n",
            "0.41751834750175476\n",
            "/content/drive/MyDrive/intern/wavlm large/farsdot/006F06.WAV.WAV spk-001 nontarget\n",
            "0.34465518593788147\n",
            "/content/drive/MyDrive/intern/wavlm large/farsdot/006F07.WAV.WAV spk-001 nontarget\n",
            "0.39365601539611816\n",
            "/content/drive/MyDrive/intern/wavlm large/farsdot/006F08.WAV.WAV spk-001 nontarget\n",
            "0.3565298318862915\n",
            "/content/drive/MyDrive/intern/wavlm large/farsdot/006F09.WAV.WAV spk-001 nontarget\n",
            "0.3642843961715698\n",
            "/content/drive/MyDrive/intern/wavlm large/farsdot/006F10.WAV.WAV spk-001 nontarget\n",
            "0.3738541901111603\n",
            "/content/drive/MyDrive/intern/wavlm large/farsdot/007F02.WAV.WAV spk-001 nontarget\n",
            "0.6017544865608215\n",
            "/content/drive/MyDrive/intern/wavlm large/farsdot/007F03.WAV.WAV spk-001 nontarget\n",
            "0.6604322791099548\n",
            "/content/drive/MyDrive/intern/wavlm large/farsdot/007F04.WAV.WAV spk-001 nontarget\n",
            "0.5546036958694458\n",
            "/content/drive/MyDrive/intern/wavlm large/farsdot/007F05.WAV.WAV spk-001 nontarget\n",
            "0.576977550983429\n",
            "/content/drive/MyDrive/intern/wavlm large/farsdot/007F06.WAV.WAV spk-001 nontarget\n",
            "0.6129971742630005\n",
            "/content/drive/MyDrive/intern/wavlm large/farsdot/007F07.WAV.WAV spk-001 nontarget\n",
            "0.598438024520874\n",
            "/content/drive/MyDrive/intern/wavlm large/farsdot/007F08.WAV.WAV spk-001 nontarget\n",
            "0.6306213140487671\n",
            "/content/drive/MyDrive/intern/wavlm large/farsdot/007F09.WAV.WAV spk-001 nontarget\n",
            "0.5693538188934326\n",
            "/content/drive/MyDrive/intern/wavlm large/farsdot/007F10.WAV.WAV spk-001 nontarget\n",
            "0.5984291434288025\n",
            "/content/drive/MyDrive/intern/wavlm large/farsdot/008F02.WAV.WAV spk-001 nontarget\n",
            "0.7762999534606934\n",
            "/content/drive/MyDrive/intern/wavlm large/farsdot/008F03.WAV.WAV spk-001 nontarget\n",
            "0.8039577007293701\n",
            "/content/drive/MyDrive/intern/wavlm large/farsdot/008F04.WAV.WAV spk-001 nontarget\n",
            "0.7555359601974487\n",
            "/content/drive/MyDrive/intern/wavlm large/farsdot/008F05.WAV.WAV spk-001 nontarget\n",
            "0.7312705516815186\n",
            "/content/drive/MyDrive/intern/wavlm large/farsdot/008F06.WAV.WAV spk-001 nontarget\n",
            "0.6357131004333496\n",
            "/content/drive/MyDrive/intern/wavlm large/farsdot/008F07.WAV.WAV spk-001 nontarget\n",
            "0.7581014037132263\n",
            "/content/drive/MyDrive/intern/wavlm large/farsdot/008F08.WAV.WAV spk-001 nontarget\n",
            "0.6842867732048035\n",
            "/content/drive/MyDrive/intern/wavlm large/farsdot/008F09.WAV.WAV spk-001 nontarget\n",
            "0.7124871015548706\n",
            "/content/drive/MyDrive/intern/wavlm large/farsdot/008F10.WAV.WAV spk-001 nontarget\n",
            "0.7260465621948242\n",
            "/content/drive/MyDrive/intern/wavlm large/farsdot/009F02.WAV.WAV spk-001 nontarget\n",
            "0.7252007722854614\n",
            "/content/drive/MyDrive/intern/wavlm large/farsdot/009F03.WAV.WAV spk-001 nontarget\n",
            "0.8188718557357788\n",
            "/content/drive/MyDrive/intern/wavlm large/farsdot/009F04.WAV.WAV spk-001 nontarget\n",
            "0.7043672800064087\n",
            "/content/drive/MyDrive/intern/wavlm large/farsdot/009F05.WAV.WAV spk-001 nontarget\n",
            "0.7864786386489868\n",
            "/content/drive/MyDrive/intern/wavlm large/farsdot/009F06.WAV.WAV spk-001 nontarget\n",
            "0.7330859899520874\n",
            "/content/drive/MyDrive/intern/wavlm large/farsdot/009F07.WAV.WAV spk-001 nontarget\n",
            "0.903022050857544\n",
            "/content/drive/MyDrive/intern/wavlm large/farsdot/009F08.WAV.WAV spk-001 nontarget\n",
            "0.7846737504005432\n",
            "/content/drive/MyDrive/intern/wavlm large/farsdot/009F09.WAV.WAV spk-001 nontarget\n",
            "0.8403909802436829\n",
            "/content/drive/MyDrive/intern/wavlm large/farsdot/009F10.WAV.WAV spk-001 nontarget\n",
            "0.6887524127960205\n",
            "/content/drive/MyDrive/intern/wavlm large/farsdot/010F02.WAV.WAV spk-001 nontarget\n",
            "0.4607257843017578\n",
            "/content/drive/MyDrive/intern/wavlm large/farsdot/010F03.WAV.WAV spk-001 nontarget\n",
            "0.564004123210907\n",
            "/content/drive/MyDrive/intern/wavlm large/farsdot/010F04.WAV.WAV spk-001 nontarget\n",
            "0.5245485901832581\n",
            "/content/drive/MyDrive/intern/wavlm large/farsdot/010F05.WAV.WAV spk-001 nontarget\n",
            "0.5716820359230042\n",
            "/content/drive/MyDrive/intern/wavlm large/farsdot/010F06.WAV.WAV spk-001 nontarget\n",
            "0.5282155275344849\n",
            "/content/drive/MyDrive/intern/wavlm large/farsdot/010F07.WAV.WAV spk-001 nontarget\n",
            "0.6590004563331604\n",
            "/content/drive/MyDrive/intern/wavlm large/farsdot/010F08.WAV.WAV spk-001 nontarget\n",
            "0.6490610837936401\n",
            "/content/drive/MyDrive/intern/wavlm large/farsdot/010F09.WAV.WAV spk-001 nontarget\n",
            "0.6332046985626221\n",
            "/content/drive/MyDrive/intern/wavlm large/farsdot/010F10.WAV.WAV spk-001 nontarget\n",
            "0.6166785359382629\n",
            "/content/drive/MyDrive/intern/wavlm large/farsdot/011F02.WAV.WAV spk-001 nontarget\n",
            "0.8248613476753235\n",
            "/content/drive/MyDrive/intern/wavlm large/farsdot/011F03.WAV.WAV spk-001 nontarget\n",
            "0.8672860860824585\n",
            "/content/drive/MyDrive/intern/wavlm large/farsdot/011F04.WAV.WAV spk-001 nontarget\n",
            "0.8303028345108032\n",
            "/content/drive/MyDrive/intern/wavlm large/farsdot/011F05.WAV.WAV spk-001 nontarget\n",
            "0.8860181570053101\n",
            "/content/drive/MyDrive/intern/wavlm large/farsdot/011F06.WAV.WAV spk-001 nontarget\n",
            "0.8769984245300293\n",
            "/content/drive/MyDrive/intern/wavlm large/farsdot/011F07.WAV.WAV spk-001 nontarget\n",
            "0.8597056865692139\n",
            "/content/drive/MyDrive/intern/wavlm large/farsdot/011F08.WAV.WAV spk-001 nontarget\n",
            "0.8927838802337646\n",
            "/content/drive/MyDrive/intern/wavlm large/farsdot/011F09.WAV.WAV spk-001 nontarget\n",
            "0.8656056523323059\n",
            "/content/drive/MyDrive/intern/wavlm large/farsdot/011F10.WAV.WAV spk-001 nontarget\n",
            "0.8136371374130249\n",
            "/content/drive/MyDrive/intern/wavlm large/farsdot/012F02.WAV.WAV spk-001 nontarget\n",
            "0.8801344633102417\n",
            "/content/drive/MyDrive/intern/wavlm large/farsdot/012F03.WAV.WAV spk-001 nontarget\n",
            "0.880856990814209\n",
            "/content/drive/MyDrive/intern/wavlm large/farsdot/012F04.WAV.WAV spk-001 nontarget\n",
            "0.8810773491859436\n",
            "/content/drive/MyDrive/intern/wavlm large/farsdot/012F05.WAV.WAV spk-001 nontarget\n",
            "0.8601369261741638\n",
            "/content/drive/MyDrive/intern/wavlm large/farsdot/012F06.WAV.WAV spk-001 nontarget\n",
            "0.9490985870361328\n",
            "/content/drive/MyDrive/intern/wavlm large/farsdot/012F07.WAV.WAV spk-001 nontarget\n",
            "0.8907610774040222\n",
            "/content/drive/MyDrive/intern/wavlm large/farsdot/012F08.WAV.WAV spk-001 nontarget\n",
            "0.9087660908699036\n",
            "/content/drive/MyDrive/intern/wavlm large/farsdot/012F09.WAV.WAV spk-001 nontarget\n",
            "0.879173219203949\n",
            "/content/drive/MyDrive/intern/wavlm large/farsdot/012F10.WAV.WAV spk-001 nontarget\n",
            "0.9121128916740417\n",
            "/content/drive/MyDrive/intern/wavlm large/farsdot/013F02.WAV.WAV spk-001 nontarget\n",
            "0.36783161759376526\n",
            "/content/drive/MyDrive/intern/wavlm large/farsdot/013F03.WAV.WAV spk-001 nontarget\n",
            "0.38112467527389526\n",
            "/content/drive/MyDrive/intern/wavlm large/farsdot/013F04.WAV.WAV spk-001 nontarget\n",
            "0.44169625639915466\n",
            "/content/drive/MyDrive/intern/wavlm large/farsdot/013F05.WAV.WAV spk-001 nontarget\n",
            "0.3763589560985565\n",
            "/content/drive/MyDrive/intern/wavlm large/farsdot/013F06.WAV.WAV spk-001 nontarget\n",
            "0.4218822717666626\n",
            "/content/drive/MyDrive/intern/wavlm large/farsdot/013F07.WAV.WAV spk-001 nontarget\n",
            "0.39825698733329773\n",
            "/content/drive/MyDrive/intern/wavlm large/farsdot/013F08.WAV.WAV spk-001 nontarget\n",
            "0.44602614641189575\n",
            "/content/drive/MyDrive/intern/wavlm large/farsdot/013F09.WAV.WAV spk-001 nontarget\n",
            "0.4383805990219116\n",
            "/content/drive/MyDrive/intern/wavlm large/farsdot/013F10.WAV.WAV spk-001 nontarget\n",
            "0.400532990694046\n",
            "/content/drive/MyDrive/intern/wavlm large/farsdot/014F02.WAV.WAV spk-001 nontarget\n",
            "0.43692025542259216\n",
            "/content/drive/MyDrive/intern/wavlm large/farsdot/014F03.WAV.WAV spk-001 nontarget\n",
            "0.40529730916023254\n",
            "/content/drive/MyDrive/intern/wavlm large/farsdot/014F09.WAV.WAV spk-001 nontarget\n",
            "0.41907280683517456\n",
            "/content/drive/MyDrive/intern/wavlm large/farsdot/014F10.WAV.WAV spk-001 nontarget\n",
            "0.43821391463279724\n",
            "/content/drive/MyDrive/intern/wavlm large/farsdot/015F02.WAV.WAV spk-001 nontarget\n",
            "0.45394366979599\n",
            "/content/drive/MyDrive/intern/wavlm large/farsdot/015F03.WAV.WAV spk-001 nontarget\n",
            "0.5028361678123474\n",
            "/content/drive/MyDrive/intern/wavlm large/farsdot/015F04.WAV.WAV spk-001 nontarget\n",
            "0.5321972370147705\n",
            "/content/drive/MyDrive/intern/wavlm large/farsdot/015F05.WAV.WAV spk-001 nontarget\n",
            "0.5641151070594788\n",
            "/content/drive/MyDrive/intern/wavlm large/farsdot/015F06.WAV.WAV spk-001 nontarget\n",
            "0.49751293659210205\n",
            "/content/drive/MyDrive/intern/wavlm large/farsdot/015F07.WAV.WAV spk-001 nontarget\n",
            "0.5027288794517517\n",
            "/content/drive/MyDrive/intern/wavlm large/farsdot/015F08.WAV.WAV spk-001 nontarget\n",
            "0.4389769732952118\n",
            "/content/drive/MyDrive/intern/wavlm large/farsdot/015F09.WAV.WAV spk-001 nontarget\n",
            "0.43376976251602173\n",
            "/content/drive/MyDrive/intern/wavlm large/farsdot/015F10.WAV.WAV spk-001 nontarget\n",
            "0.4729631543159485\n",
            "/content/drive/MyDrive/intern/wavlm large/farsdot/016F02.WAV.WAV spk-001 nontarget\n",
            "0.7846823334693909\n",
            "/content/drive/MyDrive/intern/wavlm large/farsdot/016F03.WAV.WAV spk-001 nontarget\n"
          ]
        }
      ],
      "source": [
        "from os.path import exists\n",
        "\n",
        "with open('/content/drive/MyDrive/intern/farsdot/trials') as f:\n",
        "    for line in f:\n",
        "        line = line.strip()\n",
        "        spk_id, utt_id, target_nontarget = line.split()\n",
        "        path = \"/content/drive/MyDrive/intern/wavlm large/farsdot/\"  + utt_id.split(\"-\")[1] + \".wav.wav\"\n",
        "        if exists(path) is False:\n",
        "            path = \"/content/drive/MyDrive/intern/wavlm large/farsdot/\"  + utt_id.split(\"-\")[1] + \".WAV.WAV\"\n",
        "        \n",
        "        speech_array2, sample_rate =librosa.load(path)\n",
        "        print(path, spk_id, target_nontarget)\n",
        "        speech_array2 = speech_array2.squeeze().astype(float)\n",
        "        speech_array2 = librosa.resample(np.array(speech_array2), sample_rate, 16000)\n",
        "        speech3 = [spk2spch[spk_id], speech_array2]\n",
        "        \n",
        "        inputs= feature_extractor(\n",
        "            speech3,\n",
        "            sampling_rate=16000,\n",
        "            return_tensors=\"pt\",\n",
        "            padding=True)\n",
        "\n",
        "        with torch.no_grad():\n",
        "            embeddings = model(**inputs).embeddings\n",
        "\n",
        "        embeddings = torch.nn.functional.normalize(embeddings, dim=-1).cpu()\n",
        "        cosine_sim = torch.nn.CosineSimilarity(dim=-1)\n",
        "        similarity = cosine_sim(embeddings[0], embeddings[1])\n",
        "        similarities.append(similarity.item())\n",
        "        print(similarity.item())"
      ]
    },
    {
      "cell_type": "code",
      "execution_count": null,
      "metadata": {
        "id": "EOOY9uVk0Znk"
      },
      "outputs": [],
      "source": [
        "np.save(\"similarities.npy\", np.array(similarities))"
      ]
    },
    {
      "cell_type": "code",
      "execution_count": null,
      "metadata": {
        "id": "JSGwogWs0Znm"
      },
      "outputs": [],
      "source": [
        "actual_vector = []\n",
        "with open('/content/drive/MyDrive/intern/wavlm large/farsdot/trials') as f:\n",
        "    for line in f:\n",
        "        line = line.strip()\n",
        "        spk_id, utt_id, target_nontarget = line.split()\n",
        "        if target_nontarget == \"nontarget\":\n",
        "            actual_vector.append(0)\n",
        "        else:\n",
        "            actual_vector.append(1)\n",
        "actual_vector = np.array(actual_vector)"
      ]
    },
    {
      "cell_type": "markdown",
      "metadata": {
        "id": "8CaF9h9p0Znn"
      },
      "source": [
        "ROC:"
      ]
    },
    {
      "cell_type": "code",
      "execution_count": null,
      "metadata": {
        "id": "Z9kPbStN0Zno"
      },
      "outputs": [],
      "source": [
        "threshold = 0.957"
      ]
    },
    {
      "cell_type": "code",
      "execution_count": null,
      "metadata": {
        "id": "IeGmQYNA0Zno"
      },
      "outputs": [],
      "source": [
        "similarities = np.array(similarities)\n",
        "predict_vector = (similarities > threshold) * 1\n",
        "print(predict_vector)\n",
        "print(actual_vector)"
      ]
    },
    {
      "cell_type": "code",
      "execution_count": null,
      "metadata": {
        "id": "VTmbaEQ_0Znp"
      },
      "outputs": [],
      "source": [
        "np.save(\"actual_vector.npy\", np.array(actual_vector))"
      ]
    },
    {
      "cell_type": "code",
      "execution_count": null,
      "metadata": {
        "id": "iCWjz5q70Znq"
      },
      "outputs": [],
      "source": [
        "actual_vector = np.load(\"actual_vector.npy\")\n",
        "predict_vector = np.load(\"predict_vector.npy\")\n",
        "similarities = np.load(\"similarities.npy\")"
      ]
    },
    {
      "cell_type": "code",
      "execution_count": null,
      "metadata": {
        "id": "cxlsE1DG0Znq"
      },
      "outputs": [],
      "source": [
        "sum(predict_vector != actual_vector) / len(actual_vector)"
      ]
    },
    {
      "cell_type": "code",
      "execution_count": null,
      "metadata": {
        "id": "Saz1XOuOe2j5",
        "scrolled": true
      },
      "outputs": [],
      "source": [
        "from pycm import ConfusionMatrix\n",
        "cm = ConfusionMatrix(actual_vector, predict_vector)\n",
        "cm"
      ]
    },
    {
      "cell_type": "code",
      "execution_count": null,
      "metadata": {
        "id": "5PwOaGMg0Zns"
      },
      "outputs": [],
      "source": [
        "cm.plot()"
      ]
    },
    {
      "cell_type": "code",
      "execution_count": null,
      "metadata": {
        "id": "7D2DR7zl0Zns"
      },
      "outputs": [],
      "source": [
        "print(cm)"
      ]
    },
    {
      "cell_type": "code",
      "execution_count": null,
      "metadata": {
        "id": "al-xe_3Z0Znt"
      },
      "outputs": [],
      "source": [
        "print(cm.overall_stat[\"F1 Macro\"], cm.overall_stat[\"F1 Micro\"])"
      ]
    },
    {
      "cell_type": "code",
      "execution_count": null,
      "metadata": {
        "id": "b4rUuXX60Znu"
      },
      "outputs": [],
      "source": [
        "for threshold in np.arange(0.94, 0.98, 0.001):\n",
        "    predict_vector = (similarities > threshold) * 1\n",
        "    cm = ConfusionMatrix(actual_vector, predict_vector)\n",
        "    print(threshold, cm.overall_stat[\"F1 Macro\"], cm.overall_stat[\"F1 Micro\"])"
      ]
    },
    {
      "cell_type": "code",
      "execution_count": null,
      "metadata": {
        "id": "8l4b4M7zIt_r"
      },
      "outputs": [],
      "source": [
        "print(speech3)"
      ]
    },
    {
      "cell_type": "code",
      "execution_count": null,
      "metadata": {
        "id": "bxNUxSj-1l5a"
      },
      "outputs": [],
      "source": [
        "inputs= feature_extractor(\n",
        "  speech3, sampling_rate=16000, return_tensors=\"pt\", padding=True\n",
        "    )\n",
        "\n",
        "with torch.no_grad():\n",
        "    embeddings = model(**inputs).embeddings\n",
        "\n",
        "embeddings = torch.nn.functional.normalize(embeddings, dim=-1).cpu()\n",
        "\n",
        "# the resulting embeddings can be used for cosine similarity-based retrieval\n",
        "cosine_sim = torch.nn.CosineSimilarity(dim=-1)\n",
        "similarity = cosine_sim(embeddings[0], embeddings[1])\n",
        "threshold = 0.9  # the optimal threshold is dataset-dependent\n",
        "if similarity < threshold:\n",
        "    print(\"Speakers are not the same!\")\n",
        "round(similarity.item(), 2)"
      ]
    },
    {
      "cell_type": "code",
      "execution_count": null,
      "metadata": {
        "id": "zCUMVBwTJDUq"
      },
      "outputs": [],
      "source": [
        "from pycm import *\n",
        "import numpy as np\n",
        "import copy\n",
        "import matplotlib.pyplot as plt\n",
        "from sklearn.metrics import confusion_matrix\n",
        "import os"
      ]
    },
    {
      "cell_type": "code",
      "execution_count": null,
      "metadata": {
        "id": "4xVLSq6E0Znw"
      },
      "outputs": [],
      "source": [
        "end = time.time()\n",
        "print(\"Execution time of the program is(RTF)- \", end-start)"
      ]
    }
  ],
  "metadata": {
    "colab": {
      "collapsed_sections": [],
      "name": "Copy of wavLM_base_AGP.ipynb",
      "provenance": [],
      "include_colab_link": true
    },
    "gpuClass": "standard",
    "kernelspec": {
      "display_name": "Python 3 (ipykernel)",
      "language": "python",
      "name": "python3"
    },
    "language_info": {
      "codemirror_mode": {
        "name": "ipython",
        "version": 3
      },
      "file_extension": ".py",
      "mimetype": "text/x-python",
      "name": "python",
      "nbconvert_exporter": "python",
      "pygments_lexer": "ipython3",
      "version": "3.9.7"
    },
    "widgets": {
      "application/vnd.jupyter.widget-state+json": {
        "12bd276c999548ff80fecd8f716ebf40": {
          "model_module": "@jupyter-widgets/controls",
          "model_name": "HBoxModel",
          "model_module_version": "1.5.0",
          "state": {
            "_dom_classes": [],
            "_model_module": "@jupyter-widgets/controls",
            "_model_module_version": "1.5.0",
            "_model_name": "HBoxModel",
            "_view_count": null,
            "_view_module": "@jupyter-widgets/controls",
            "_view_module_version": "1.5.0",
            "_view_name": "HBoxView",
            "box_style": "",
            "children": [
              "IPY_MODEL_983808f0ba0f49479981386e894e17fd",
              "IPY_MODEL_a60e3cdafee34624a08dceb4cc9ac507",
              "IPY_MODEL_509b17c975714ed8a6ceeb0dc24c3d67"
            ],
            "layout": "IPY_MODEL_be79e4264bbd4c9e8718cb3e1cd19845"
          }
        },
        "983808f0ba0f49479981386e894e17fd": {
          "model_module": "@jupyter-widgets/controls",
          "model_name": "HTMLModel",
          "model_module_version": "1.5.0",
          "state": {
            "_dom_classes": [],
            "_model_module": "@jupyter-widgets/controls",
            "_model_module_version": "1.5.0",
            "_model_name": "HTMLModel",
            "_view_count": null,
            "_view_module": "@jupyter-widgets/controls",
            "_view_module_version": "1.5.0",
            "_view_name": "HTMLView",
            "description": "",
            "description_tooltip": null,
            "layout": "IPY_MODEL_81cbd47b34bb4586845b91af8b883ee3",
            "placeholder": "​",
            "style": "IPY_MODEL_6d88c3d6bb2d4313b807dae3831af8aa",
            "value": "Downloading preprocessor_config.json: 100%"
          }
        },
        "a60e3cdafee34624a08dceb4cc9ac507": {
          "model_module": "@jupyter-widgets/controls",
          "model_name": "FloatProgressModel",
          "model_module_version": "1.5.0",
          "state": {
            "_dom_classes": [],
            "_model_module": "@jupyter-widgets/controls",
            "_model_module_version": "1.5.0",
            "_model_name": "FloatProgressModel",
            "_view_count": null,
            "_view_module": "@jupyter-widgets/controls",
            "_view_module_version": "1.5.0",
            "_view_name": "ProgressView",
            "bar_style": "success",
            "description": "",
            "description_tooltip": null,
            "layout": "IPY_MODEL_006cb988a5084d69ab8c978e8e6d7e51",
            "max": 215,
            "min": 0,
            "orientation": "horizontal",
            "style": "IPY_MODEL_a5f8c7f82a474f2b8e7ab51890829330",
            "value": 215
          }
        },
        "509b17c975714ed8a6ceeb0dc24c3d67": {
          "model_module": "@jupyter-widgets/controls",
          "model_name": "HTMLModel",
          "model_module_version": "1.5.0",
          "state": {
            "_dom_classes": [],
            "_model_module": "@jupyter-widgets/controls",
            "_model_module_version": "1.5.0",
            "_model_name": "HTMLModel",
            "_view_count": null,
            "_view_module": "@jupyter-widgets/controls",
            "_view_module_version": "1.5.0",
            "_view_name": "HTMLView",
            "description": "",
            "description_tooltip": null,
            "layout": "IPY_MODEL_ff8a47618b044a5aa162d19f2367ecf4",
            "placeholder": "​",
            "style": "IPY_MODEL_d33fd7739a2948b78b71109bda789bb1",
            "value": " 215/215 [00:00&lt;00:00, 3.23kB/s]"
          }
        },
        "be79e4264bbd4c9e8718cb3e1cd19845": {
          "model_module": "@jupyter-widgets/base",
          "model_name": "LayoutModel",
          "model_module_version": "1.2.0",
          "state": {
            "_model_module": "@jupyter-widgets/base",
            "_model_module_version": "1.2.0",
            "_model_name": "LayoutModel",
            "_view_count": null,
            "_view_module": "@jupyter-widgets/base",
            "_view_module_version": "1.2.0",
            "_view_name": "LayoutView",
            "align_content": null,
            "align_items": null,
            "align_self": null,
            "border": null,
            "bottom": null,
            "display": null,
            "flex": null,
            "flex_flow": null,
            "grid_area": null,
            "grid_auto_columns": null,
            "grid_auto_flow": null,
            "grid_auto_rows": null,
            "grid_column": null,
            "grid_gap": null,
            "grid_row": null,
            "grid_template_areas": null,
            "grid_template_columns": null,
            "grid_template_rows": null,
            "height": null,
            "justify_content": null,
            "justify_items": null,
            "left": null,
            "margin": null,
            "max_height": null,
            "max_width": null,
            "min_height": null,
            "min_width": null,
            "object_fit": null,
            "object_position": null,
            "order": null,
            "overflow": null,
            "overflow_x": null,
            "overflow_y": null,
            "padding": null,
            "right": null,
            "top": null,
            "visibility": null,
            "width": null
          }
        },
        "81cbd47b34bb4586845b91af8b883ee3": {
          "model_module": "@jupyter-widgets/base",
          "model_name": "LayoutModel",
          "model_module_version": "1.2.0",
          "state": {
            "_model_module": "@jupyter-widgets/base",
            "_model_module_version": "1.2.0",
            "_model_name": "LayoutModel",
            "_view_count": null,
            "_view_module": "@jupyter-widgets/base",
            "_view_module_version": "1.2.0",
            "_view_name": "LayoutView",
            "align_content": null,
            "align_items": null,
            "align_self": null,
            "border": null,
            "bottom": null,
            "display": null,
            "flex": null,
            "flex_flow": null,
            "grid_area": null,
            "grid_auto_columns": null,
            "grid_auto_flow": null,
            "grid_auto_rows": null,
            "grid_column": null,
            "grid_gap": null,
            "grid_row": null,
            "grid_template_areas": null,
            "grid_template_columns": null,
            "grid_template_rows": null,
            "height": null,
            "justify_content": null,
            "justify_items": null,
            "left": null,
            "margin": null,
            "max_height": null,
            "max_width": null,
            "min_height": null,
            "min_width": null,
            "object_fit": null,
            "object_position": null,
            "order": null,
            "overflow": null,
            "overflow_x": null,
            "overflow_y": null,
            "padding": null,
            "right": null,
            "top": null,
            "visibility": null,
            "width": null
          }
        },
        "6d88c3d6bb2d4313b807dae3831af8aa": {
          "model_module": "@jupyter-widgets/controls",
          "model_name": "DescriptionStyleModel",
          "model_module_version": "1.5.0",
          "state": {
            "_model_module": "@jupyter-widgets/controls",
            "_model_module_version": "1.5.0",
            "_model_name": "DescriptionStyleModel",
            "_view_count": null,
            "_view_module": "@jupyter-widgets/base",
            "_view_module_version": "1.2.0",
            "_view_name": "StyleView",
            "description_width": ""
          }
        },
        "006cb988a5084d69ab8c978e8e6d7e51": {
          "model_module": "@jupyter-widgets/base",
          "model_name": "LayoutModel",
          "model_module_version": "1.2.0",
          "state": {
            "_model_module": "@jupyter-widgets/base",
            "_model_module_version": "1.2.0",
            "_model_name": "LayoutModel",
            "_view_count": null,
            "_view_module": "@jupyter-widgets/base",
            "_view_module_version": "1.2.0",
            "_view_name": "LayoutView",
            "align_content": null,
            "align_items": null,
            "align_self": null,
            "border": null,
            "bottom": null,
            "display": null,
            "flex": null,
            "flex_flow": null,
            "grid_area": null,
            "grid_auto_columns": null,
            "grid_auto_flow": null,
            "grid_auto_rows": null,
            "grid_column": null,
            "grid_gap": null,
            "grid_row": null,
            "grid_template_areas": null,
            "grid_template_columns": null,
            "grid_template_rows": null,
            "height": null,
            "justify_content": null,
            "justify_items": null,
            "left": null,
            "margin": null,
            "max_height": null,
            "max_width": null,
            "min_height": null,
            "min_width": null,
            "object_fit": null,
            "object_position": null,
            "order": null,
            "overflow": null,
            "overflow_x": null,
            "overflow_y": null,
            "padding": null,
            "right": null,
            "top": null,
            "visibility": null,
            "width": null
          }
        },
        "a5f8c7f82a474f2b8e7ab51890829330": {
          "model_module": "@jupyter-widgets/controls",
          "model_name": "ProgressStyleModel",
          "model_module_version": "1.5.0",
          "state": {
            "_model_module": "@jupyter-widgets/controls",
            "_model_module_version": "1.5.0",
            "_model_name": "ProgressStyleModel",
            "_view_count": null,
            "_view_module": "@jupyter-widgets/base",
            "_view_module_version": "1.2.0",
            "_view_name": "StyleView",
            "bar_color": null,
            "description_width": ""
          }
        },
        "ff8a47618b044a5aa162d19f2367ecf4": {
          "model_module": "@jupyter-widgets/base",
          "model_name": "LayoutModel",
          "model_module_version": "1.2.0",
          "state": {
            "_model_module": "@jupyter-widgets/base",
            "_model_module_version": "1.2.0",
            "_model_name": "LayoutModel",
            "_view_count": null,
            "_view_module": "@jupyter-widgets/base",
            "_view_module_version": "1.2.0",
            "_view_name": "LayoutView",
            "align_content": null,
            "align_items": null,
            "align_self": null,
            "border": null,
            "bottom": null,
            "display": null,
            "flex": null,
            "flex_flow": null,
            "grid_area": null,
            "grid_auto_columns": null,
            "grid_auto_flow": null,
            "grid_auto_rows": null,
            "grid_column": null,
            "grid_gap": null,
            "grid_row": null,
            "grid_template_areas": null,
            "grid_template_columns": null,
            "grid_template_rows": null,
            "height": null,
            "justify_content": null,
            "justify_items": null,
            "left": null,
            "margin": null,
            "max_height": null,
            "max_width": null,
            "min_height": null,
            "min_width": null,
            "object_fit": null,
            "object_position": null,
            "order": null,
            "overflow": null,
            "overflow_x": null,
            "overflow_y": null,
            "padding": null,
            "right": null,
            "top": null,
            "visibility": null,
            "width": null
          }
        },
        "d33fd7739a2948b78b71109bda789bb1": {
          "model_module": "@jupyter-widgets/controls",
          "model_name": "DescriptionStyleModel",
          "model_module_version": "1.5.0",
          "state": {
            "_model_module": "@jupyter-widgets/controls",
            "_model_module_version": "1.5.0",
            "_model_name": "DescriptionStyleModel",
            "_view_count": null,
            "_view_module": "@jupyter-widgets/base",
            "_view_module_version": "1.2.0",
            "_view_name": "StyleView",
            "description_width": ""
          }
        },
        "eba13cb25d7048ac97ede2f039eb334f": {
          "model_module": "@jupyter-widgets/controls",
          "model_name": "HBoxModel",
          "model_module_version": "1.5.0",
          "state": {
            "_dom_classes": [],
            "_model_module": "@jupyter-widgets/controls",
            "_model_module_version": "1.5.0",
            "_model_name": "HBoxModel",
            "_view_count": null,
            "_view_module": "@jupyter-widgets/controls",
            "_view_module_version": "1.5.0",
            "_view_name": "HBoxView",
            "box_style": "",
            "children": [
              "IPY_MODEL_51de48f49ec744dbb0aaf9050590e202",
              "IPY_MODEL_cddc261e55b7444992e136a497049186",
              "IPY_MODEL_6b9d00f89716454b89941ff18b18fdbb"
            ],
            "layout": "IPY_MODEL_bca8323d6bc049008f56e2f9d531f87a"
          }
        },
        "51de48f49ec744dbb0aaf9050590e202": {
          "model_module": "@jupyter-widgets/controls",
          "model_name": "HTMLModel",
          "model_module_version": "1.5.0",
          "state": {
            "_dom_classes": [],
            "_model_module": "@jupyter-widgets/controls",
            "_model_module_version": "1.5.0",
            "_model_name": "HTMLModel",
            "_view_count": null,
            "_view_module": "@jupyter-widgets/controls",
            "_view_module_version": "1.5.0",
            "_view_name": "HTMLView",
            "description": "",
            "description_tooltip": null,
            "layout": "IPY_MODEL_b20ac53868324fd4a3d6a130d6b48862",
            "placeholder": "​",
            "style": "IPY_MODEL_c13e87a5c07147d8bf43ed81f201d676",
            "value": "Downloading config.json: 100%"
          }
        },
        "cddc261e55b7444992e136a497049186": {
          "model_module": "@jupyter-widgets/controls",
          "model_name": "FloatProgressModel",
          "model_module_version": "1.5.0",
          "state": {
            "_dom_classes": [],
            "_model_module": "@jupyter-widgets/controls",
            "_model_module_version": "1.5.0",
            "_model_name": "FloatProgressModel",
            "_view_count": null,
            "_view_module": "@jupyter-widgets/controls",
            "_view_module_version": "1.5.0",
            "_view_name": "ProgressView",
            "bar_style": "success",
            "description": "",
            "description_tooltip": null,
            "layout": "IPY_MODEL_12abf5fc1a1a4edaa414285df0a38179",
            "max": 58639,
            "min": 0,
            "orientation": "horizontal",
            "style": "IPY_MODEL_fe24a9958e714a60ada6e0f8c8e1b3ae",
            "value": 58639
          }
        },
        "6b9d00f89716454b89941ff18b18fdbb": {
          "model_module": "@jupyter-widgets/controls",
          "model_name": "HTMLModel",
          "model_module_version": "1.5.0",
          "state": {
            "_dom_classes": [],
            "_model_module": "@jupyter-widgets/controls",
            "_model_module_version": "1.5.0",
            "_model_name": "HTMLModel",
            "_view_count": null,
            "_view_module": "@jupyter-widgets/controls",
            "_view_module_version": "1.5.0",
            "_view_name": "HTMLView",
            "description": "",
            "description_tooltip": null,
            "layout": "IPY_MODEL_6a6041c2680c475c92db37343623e973",
            "placeholder": "​",
            "style": "IPY_MODEL_8511aa67ad5c4848abf77754b4cf9004",
            "value": " 57.3k/57.3k [00:00&lt;00:00, 192kB/s]"
          }
        },
        "bca8323d6bc049008f56e2f9d531f87a": {
          "model_module": "@jupyter-widgets/base",
          "model_name": "LayoutModel",
          "model_module_version": "1.2.0",
          "state": {
            "_model_module": "@jupyter-widgets/base",
            "_model_module_version": "1.2.0",
            "_model_name": "LayoutModel",
            "_view_count": null,
            "_view_module": "@jupyter-widgets/base",
            "_view_module_version": "1.2.0",
            "_view_name": "LayoutView",
            "align_content": null,
            "align_items": null,
            "align_self": null,
            "border": null,
            "bottom": null,
            "display": null,
            "flex": null,
            "flex_flow": null,
            "grid_area": null,
            "grid_auto_columns": null,
            "grid_auto_flow": null,
            "grid_auto_rows": null,
            "grid_column": null,
            "grid_gap": null,
            "grid_row": null,
            "grid_template_areas": null,
            "grid_template_columns": null,
            "grid_template_rows": null,
            "height": null,
            "justify_content": null,
            "justify_items": null,
            "left": null,
            "margin": null,
            "max_height": null,
            "max_width": null,
            "min_height": null,
            "min_width": null,
            "object_fit": null,
            "object_position": null,
            "order": null,
            "overflow": null,
            "overflow_x": null,
            "overflow_y": null,
            "padding": null,
            "right": null,
            "top": null,
            "visibility": null,
            "width": null
          }
        },
        "b20ac53868324fd4a3d6a130d6b48862": {
          "model_module": "@jupyter-widgets/base",
          "model_name": "LayoutModel",
          "model_module_version": "1.2.0",
          "state": {
            "_model_module": "@jupyter-widgets/base",
            "_model_module_version": "1.2.0",
            "_model_name": "LayoutModel",
            "_view_count": null,
            "_view_module": "@jupyter-widgets/base",
            "_view_module_version": "1.2.0",
            "_view_name": "LayoutView",
            "align_content": null,
            "align_items": null,
            "align_self": null,
            "border": null,
            "bottom": null,
            "display": null,
            "flex": null,
            "flex_flow": null,
            "grid_area": null,
            "grid_auto_columns": null,
            "grid_auto_flow": null,
            "grid_auto_rows": null,
            "grid_column": null,
            "grid_gap": null,
            "grid_row": null,
            "grid_template_areas": null,
            "grid_template_columns": null,
            "grid_template_rows": null,
            "height": null,
            "justify_content": null,
            "justify_items": null,
            "left": null,
            "margin": null,
            "max_height": null,
            "max_width": null,
            "min_height": null,
            "min_width": null,
            "object_fit": null,
            "object_position": null,
            "order": null,
            "overflow": null,
            "overflow_x": null,
            "overflow_y": null,
            "padding": null,
            "right": null,
            "top": null,
            "visibility": null,
            "width": null
          }
        },
        "c13e87a5c07147d8bf43ed81f201d676": {
          "model_module": "@jupyter-widgets/controls",
          "model_name": "DescriptionStyleModel",
          "model_module_version": "1.5.0",
          "state": {
            "_model_module": "@jupyter-widgets/controls",
            "_model_module_version": "1.5.0",
            "_model_name": "DescriptionStyleModel",
            "_view_count": null,
            "_view_module": "@jupyter-widgets/base",
            "_view_module_version": "1.2.0",
            "_view_name": "StyleView",
            "description_width": ""
          }
        },
        "12abf5fc1a1a4edaa414285df0a38179": {
          "model_module": "@jupyter-widgets/base",
          "model_name": "LayoutModel",
          "model_module_version": "1.2.0",
          "state": {
            "_model_module": "@jupyter-widgets/base",
            "_model_module_version": "1.2.0",
            "_model_name": "LayoutModel",
            "_view_count": null,
            "_view_module": "@jupyter-widgets/base",
            "_view_module_version": "1.2.0",
            "_view_name": "LayoutView",
            "align_content": null,
            "align_items": null,
            "align_self": null,
            "border": null,
            "bottom": null,
            "display": null,
            "flex": null,
            "flex_flow": null,
            "grid_area": null,
            "grid_auto_columns": null,
            "grid_auto_flow": null,
            "grid_auto_rows": null,
            "grid_column": null,
            "grid_gap": null,
            "grid_row": null,
            "grid_template_areas": null,
            "grid_template_columns": null,
            "grid_template_rows": null,
            "height": null,
            "justify_content": null,
            "justify_items": null,
            "left": null,
            "margin": null,
            "max_height": null,
            "max_width": null,
            "min_height": null,
            "min_width": null,
            "object_fit": null,
            "object_position": null,
            "order": null,
            "overflow": null,
            "overflow_x": null,
            "overflow_y": null,
            "padding": null,
            "right": null,
            "top": null,
            "visibility": null,
            "width": null
          }
        },
        "fe24a9958e714a60ada6e0f8c8e1b3ae": {
          "model_module": "@jupyter-widgets/controls",
          "model_name": "ProgressStyleModel",
          "model_module_version": "1.5.0",
          "state": {
            "_model_module": "@jupyter-widgets/controls",
            "_model_module_version": "1.5.0",
            "_model_name": "ProgressStyleModel",
            "_view_count": null,
            "_view_module": "@jupyter-widgets/base",
            "_view_module_version": "1.2.0",
            "_view_name": "StyleView",
            "bar_color": null,
            "description_width": ""
          }
        },
        "6a6041c2680c475c92db37343623e973": {
          "model_module": "@jupyter-widgets/base",
          "model_name": "LayoutModel",
          "model_module_version": "1.2.0",
          "state": {
            "_model_module": "@jupyter-widgets/base",
            "_model_module_version": "1.2.0",
            "_model_name": "LayoutModel",
            "_view_count": null,
            "_view_module": "@jupyter-widgets/base",
            "_view_module_version": "1.2.0",
            "_view_name": "LayoutView",
            "align_content": null,
            "align_items": null,
            "align_self": null,
            "border": null,
            "bottom": null,
            "display": null,
            "flex": null,
            "flex_flow": null,
            "grid_area": null,
            "grid_auto_columns": null,
            "grid_auto_flow": null,
            "grid_auto_rows": null,
            "grid_column": null,
            "grid_gap": null,
            "grid_row": null,
            "grid_template_areas": null,
            "grid_template_columns": null,
            "grid_template_rows": null,
            "height": null,
            "justify_content": null,
            "justify_items": null,
            "left": null,
            "margin": null,
            "max_height": null,
            "max_width": null,
            "min_height": null,
            "min_width": null,
            "object_fit": null,
            "object_position": null,
            "order": null,
            "overflow": null,
            "overflow_x": null,
            "overflow_y": null,
            "padding": null,
            "right": null,
            "top": null,
            "visibility": null,
            "width": null
          }
        },
        "8511aa67ad5c4848abf77754b4cf9004": {
          "model_module": "@jupyter-widgets/controls",
          "model_name": "DescriptionStyleModel",
          "model_module_version": "1.5.0",
          "state": {
            "_model_module": "@jupyter-widgets/controls",
            "_model_module_version": "1.5.0",
            "_model_name": "DescriptionStyleModel",
            "_view_count": null,
            "_view_module": "@jupyter-widgets/base",
            "_view_module_version": "1.2.0",
            "_view_name": "StyleView",
            "description_width": ""
          }
        },
        "33cd36dc629841f8862fc57cba69e2c2": {
          "model_module": "@jupyter-widgets/controls",
          "model_name": "HBoxModel",
          "model_module_version": "1.5.0",
          "state": {
            "_dom_classes": [],
            "_model_module": "@jupyter-widgets/controls",
            "_model_module_version": "1.5.0",
            "_model_name": "HBoxModel",
            "_view_count": null,
            "_view_module": "@jupyter-widgets/controls",
            "_view_module_version": "1.5.0",
            "_view_name": "HBoxView",
            "box_style": "",
            "children": [
              "IPY_MODEL_78ddab909c354b9ab74bf1cd1c15d6b7",
              "IPY_MODEL_59bab37d4aa244528498488866d03d32",
              "IPY_MODEL_bf7c152cfea14f2da870d3ff5ac75f37"
            ],
            "layout": "IPY_MODEL_545197b2763c43719f9d7bcb3628e0fb"
          }
        },
        "78ddab909c354b9ab74bf1cd1c15d6b7": {
          "model_module": "@jupyter-widgets/controls",
          "model_name": "HTMLModel",
          "model_module_version": "1.5.0",
          "state": {
            "_dom_classes": [],
            "_model_module": "@jupyter-widgets/controls",
            "_model_module_version": "1.5.0",
            "_model_name": "HTMLModel",
            "_view_count": null,
            "_view_module": "@jupyter-widgets/controls",
            "_view_module_version": "1.5.0",
            "_view_name": "HTMLView",
            "description": "",
            "description_tooltip": null,
            "layout": "IPY_MODEL_e397bdc40f774e0c99b186e2bf96a33c",
            "placeholder": "​",
            "style": "IPY_MODEL_1684f0a87c484c39b4ee15e3a29d2424",
            "value": "Downloading pytorch_model.bin: 100%"
          }
        },
        "59bab37d4aa244528498488866d03d32": {
          "model_module": "@jupyter-widgets/controls",
          "model_name": "FloatProgressModel",
          "model_module_version": "1.5.0",
          "state": {
            "_dom_classes": [],
            "_model_module": "@jupyter-widgets/controls",
            "_model_module_version": "1.5.0",
            "_model_name": "FloatProgressModel",
            "_view_count": null,
            "_view_module": "@jupyter-widgets/controls",
            "_view_module_version": "1.5.0",
            "_view_name": "ProgressView",
            "bar_style": "success",
            "description": "",
            "description_tooltip": null,
            "layout": "IPY_MODEL_912beb42531f4df498655fb20fb27eb9",
            "max": 404547053,
            "min": 0,
            "orientation": "horizontal",
            "style": "IPY_MODEL_48d9bb60fcb44b5ba5fea8ba439f4b6c",
            "value": 404547053
          }
        },
        "bf7c152cfea14f2da870d3ff5ac75f37": {
          "model_module": "@jupyter-widgets/controls",
          "model_name": "HTMLModel",
          "model_module_version": "1.5.0",
          "state": {
            "_dom_classes": [],
            "_model_module": "@jupyter-widgets/controls",
            "_model_module_version": "1.5.0",
            "_model_name": "HTMLModel",
            "_view_count": null,
            "_view_module": "@jupyter-widgets/controls",
            "_view_module_version": "1.5.0",
            "_view_name": "HTMLView",
            "description": "",
            "description_tooltip": null,
            "layout": "IPY_MODEL_4abd8255a15649bfb3da220092b86c4e",
            "placeholder": "​",
            "style": "IPY_MODEL_2d8367839aca40e1a30382122d8c0250",
            "value": " 386M/386M [00:10&lt;00:00, 45.9MB/s]"
          }
        },
        "545197b2763c43719f9d7bcb3628e0fb": {
          "model_module": "@jupyter-widgets/base",
          "model_name": "LayoutModel",
          "model_module_version": "1.2.0",
          "state": {
            "_model_module": "@jupyter-widgets/base",
            "_model_module_version": "1.2.0",
            "_model_name": "LayoutModel",
            "_view_count": null,
            "_view_module": "@jupyter-widgets/base",
            "_view_module_version": "1.2.0",
            "_view_name": "LayoutView",
            "align_content": null,
            "align_items": null,
            "align_self": null,
            "border": null,
            "bottom": null,
            "display": null,
            "flex": null,
            "flex_flow": null,
            "grid_area": null,
            "grid_auto_columns": null,
            "grid_auto_flow": null,
            "grid_auto_rows": null,
            "grid_column": null,
            "grid_gap": null,
            "grid_row": null,
            "grid_template_areas": null,
            "grid_template_columns": null,
            "grid_template_rows": null,
            "height": null,
            "justify_content": null,
            "justify_items": null,
            "left": null,
            "margin": null,
            "max_height": null,
            "max_width": null,
            "min_height": null,
            "min_width": null,
            "object_fit": null,
            "object_position": null,
            "order": null,
            "overflow": null,
            "overflow_x": null,
            "overflow_y": null,
            "padding": null,
            "right": null,
            "top": null,
            "visibility": null,
            "width": null
          }
        },
        "e397bdc40f774e0c99b186e2bf96a33c": {
          "model_module": "@jupyter-widgets/base",
          "model_name": "LayoutModel",
          "model_module_version": "1.2.0",
          "state": {
            "_model_module": "@jupyter-widgets/base",
            "_model_module_version": "1.2.0",
            "_model_name": "LayoutModel",
            "_view_count": null,
            "_view_module": "@jupyter-widgets/base",
            "_view_module_version": "1.2.0",
            "_view_name": "LayoutView",
            "align_content": null,
            "align_items": null,
            "align_self": null,
            "border": null,
            "bottom": null,
            "display": null,
            "flex": null,
            "flex_flow": null,
            "grid_area": null,
            "grid_auto_columns": null,
            "grid_auto_flow": null,
            "grid_auto_rows": null,
            "grid_column": null,
            "grid_gap": null,
            "grid_row": null,
            "grid_template_areas": null,
            "grid_template_columns": null,
            "grid_template_rows": null,
            "height": null,
            "justify_content": null,
            "justify_items": null,
            "left": null,
            "margin": null,
            "max_height": null,
            "max_width": null,
            "min_height": null,
            "min_width": null,
            "object_fit": null,
            "object_position": null,
            "order": null,
            "overflow": null,
            "overflow_x": null,
            "overflow_y": null,
            "padding": null,
            "right": null,
            "top": null,
            "visibility": null,
            "width": null
          }
        },
        "1684f0a87c484c39b4ee15e3a29d2424": {
          "model_module": "@jupyter-widgets/controls",
          "model_name": "DescriptionStyleModel",
          "model_module_version": "1.5.0",
          "state": {
            "_model_module": "@jupyter-widgets/controls",
            "_model_module_version": "1.5.0",
            "_model_name": "DescriptionStyleModel",
            "_view_count": null,
            "_view_module": "@jupyter-widgets/base",
            "_view_module_version": "1.2.0",
            "_view_name": "StyleView",
            "description_width": ""
          }
        },
        "912beb42531f4df498655fb20fb27eb9": {
          "model_module": "@jupyter-widgets/base",
          "model_name": "LayoutModel",
          "model_module_version": "1.2.0",
          "state": {
            "_model_module": "@jupyter-widgets/base",
            "_model_module_version": "1.2.0",
            "_model_name": "LayoutModel",
            "_view_count": null,
            "_view_module": "@jupyter-widgets/base",
            "_view_module_version": "1.2.0",
            "_view_name": "LayoutView",
            "align_content": null,
            "align_items": null,
            "align_self": null,
            "border": null,
            "bottom": null,
            "display": null,
            "flex": null,
            "flex_flow": null,
            "grid_area": null,
            "grid_auto_columns": null,
            "grid_auto_flow": null,
            "grid_auto_rows": null,
            "grid_column": null,
            "grid_gap": null,
            "grid_row": null,
            "grid_template_areas": null,
            "grid_template_columns": null,
            "grid_template_rows": null,
            "height": null,
            "justify_content": null,
            "justify_items": null,
            "left": null,
            "margin": null,
            "max_height": null,
            "max_width": null,
            "min_height": null,
            "min_width": null,
            "object_fit": null,
            "object_position": null,
            "order": null,
            "overflow": null,
            "overflow_x": null,
            "overflow_y": null,
            "padding": null,
            "right": null,
            "top": null,
            "visibility": null,
            "width": null
          }
        },
        "48d9bb60fcb44b5ba5fea8ba439f4b6c": {
          "model_module": "@jupyter-widgets/controls",
          "model_name": "ProgressStyleModel",
          "model_module_version": "1.5.0",
          "state": {
            "_model_module": "@jupyter-widgets/controls",
            "_model_module_version": "1.5.0",
            "_model_name": "ProgressStyleModel",
            "_view_count": null,
            "_view_module": "@jupyter-widgets/base",
            "_view_module_version": "1.2.0",
            "_view_name": "StyleView",
            "bar_color": null,
            "description_width": ""
          }
        },
        "4abd8255a15649bfb3da220092b86c4e": {
          "model_module": "@jupyter-widgets/base",
          "model_name": "LayoutModel",
          "model_module_version": "1.2.0",
          "state": {
            "_model_module": "@jupyter-widgets/base",
            "_model_module_version": "1.2.0",
            "_model_name": "LayoutModel",
            "_view_count": null,
            "_view_module": "@jupyter-widgets/base",
            "_view_module_version": "1.2.0",
            "_view_name": "LayoutView",
            "align_content": null,
            "align_items": null,
            "align_self": null,
            "border": null,
            "bottom": null,
            "display": null,
            "flex": null,
            "flex_flow": null,
            "grid_area": null,
            "grid_auto_columns": null,
            "grid_auto_flow": null,
            "grid_auto_rows": null,
            "grid_column": null,
            "grid_gap": null,
            "grid_row": null,
            "grid_template_areas": null,
            "grid_template_columns": null,
            "grid_template_rows": null,
            "height": null,
            "justify_content": null,
            "justify_items": null,
            "left": null,
            "margin": null,
            "max_height": null,
            "max_width": null,
            "min_height": null,
            "min_width": null,
            "object_fit": null,
            "object_position": null,
            "order": null,
            "overflow": null,
            "overflow_x": null,
            "overflow_y": null,
            "padding": null,
            "right": null,
            "top": null,
            "visibility": null,
            "width": null
          }
        },
        "2d8367839aca40e1a30382122d8c0250": {
          "model_module": "@jupyter-widgets/controls",
          "model_name": "DescriptionStyleModel",
          "model_module_version": "1.5.0",
          "state": {
            "_model_module": "@jupyter-widgets/controls",
            "_model_module_version": "1.5.0",
            "_model_name": "DescriptionStyleModel",
            "_view_count": null,
            "_view_module": "@jupyter-widgets/base",
            "_view_module_version": "1.2.0",
            "_view_name": "StyleView",
            "description_width": ""
          }
        }
      }
    }
  },
  "nbformat": 4,
  "nbformat_minor": 0
}