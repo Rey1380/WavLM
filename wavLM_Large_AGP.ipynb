{
  "cells": [
    {
      "cell_type": "markdown",
      "metadata": {
        "id": "view-in-github",
        "colab_type": "text"
      },
      "source": [
        "<a href=\"https://colab.research.google.com/github/Rey1380/WavLM/blob/main/wavLM_Large_AGP.ipynb\" target=\"_parent\"><img src=\"https://colab.research.google.com/assets/colab-badge.svg\" alt=\"Open In Colab\"/></a>"
      ]
    },
    {
      "cell_type": "markdown",
      "metadata": {
        "id": "DkAwrLGP79Ku"
      },
      "source": [
        "# WavLM_base"
      ]
    },
    {
      "cell_type": "code",
      "execution_count": 12,
      "metadata": {
        "id": "8u7_ibrk89Pw",
        "colab": {
          "base_uri": "https://localhost:8080/"
        },
        "outputId": "0d84576c-db13-4ee2-9e66-62391a439083"
      },
      "outputs": [
        {
          "output_type": "stream",
          "name": "stdout",
          "text": [
            "Looking in indexes: https://pypi.org/simple, https://us-python.pkg.dev/colab-wheels/public/simple/\n",
            "Collecting pycm==3.5\n",
            "  Downloading pycm-3.5-py2.py3-none-any.whl (66 kB)\n",
            "\u001b[K     |████████████████████████████████| 66 kB 2.1 MB/s \n",
            "\u001b[?25hRequirement already satisfied: numpy>=1.9.0 in /usr/local/lib/python3.7/dist-packages (from pycm==3.5) (1.21.6)\n",
            "Collecting art>=1.8\n",
            "  Downloading art-5.7-py2.py3-none-any.whl (592 kB)\n",
            "\u001b[K     |████████████████████████████████| 592 kB 7.4 MB/s \n",
            "\u001b[?25hInstalling collected packages: art, pycm\n",
            "Successfully installed art-5.7 pycm-3.5\n"
          ]
        }
      ],
      "source": [
        "#!pip install  transformers \n",
        "#!pip install --quiet datasets\n",
        "!pip install pycm==3.5"
      ]
    },
    {
      "cell_type": "code",
      "source": [
        "from google.colab import drive\n",
        "drive.mount('/content/drive')"
      ],
      "metadata": {
        "colab": {
          "base_uri": "https://localhost:8080/"
        },
        "id": "qTN5vVLa19E6",
        "outputId": "0606b29f-85c6-4bf5-8b20-70625f9a990f"
      },
      "execution_count": 1,
      "outputs": [
        {
          "output_type": "stream",
          "name": "stdout",
          "text": [
            "Mounted at /content/drive\n"
          ]
        }
      ]
    },
    {
      "cell_type": "code",
      "execution_count": 13,
      "metadata": {
        "id": "CP1jqlTf9D4e"
      },
      "outputs": [],
      "source": [
        "from transformers import Wav2Vec2FeatureExtractor, WavLMForXVector\n",
        "import torch\n",
        "import librosa\n",
        "import IPython.display as ipd\n",
        "import numpy as np\n"
      ]
    },
    {
      "cell_type": "code",
      "execution_count": 29,
      "metadata": {
        "colab": {
          "base_uri": "https://localhost:8080/"
        },
        "id": "CNEmqbBM0Zng",
        "outputId": "ed16bc4d-ab56-4d9d-804a-55c734964d99"
      },
      "outputs": [
        {
          "output_type": "stream",
          "name": "stderr",
          "text": [
            "/usr/local/lib/python3.7/dist-packages/ipykernel_launcher.py:7: DeprecationWarning: `np.float` is a deprecated alias for the builtin `float`. To silence this warning, use `float` by itself. Doing this will not modify any behavior and is safe. If you specifically wanted the numpy scalar type, use `np.float64` here.\n",
            "Deprecated in NumPy 1.20; for more details and guidance: https://numpy.org/devdocs/release/1.20.0-notes.html#deprecations\n",
            "  import sys\n"
          ]
        },
        {
          "output_type": "stream",
          "name": "stdout",
          "text": [
            "{'spk-005': array([ 0.00823043,  0.02820847,  0.04818604, ..., -0.14349711,\n",
            "       -0.14686033, -0.12725166]), 'spk-004': array([-0.02628134, -0.05006496, -0.06950009, ..., -0.12025548,\n",
            "       -0.16296227, -0.17006206]), 'spk-002': array([ 0.01924788,  0.0242436 ,  0.02184847, ..., -0.10517504,\n",
            "       -0.10147337, -0.09218591]), 'spk-003': array([-0.05523161, -0.0771074 , -0.06692014, ..., -0.01974893,\n",
            "       -0.00383414, -0.00249208]), 'spk-001': array([-8.43584842e-02, -1.26433883e-01, -1.48499515e-01, ...,\n",
            "       -2.05530910e-03, -1.88486905e-03, -1.50226325e-05]), 'spk-019': array([ 0.00022408,  0.00250463,  0.00231654, ..., -0.01310766,\n",
            "       -0.01753066, -0.03073982]), 'spk-020': array([ 0.02155926,  0.02807357,  0.01591643, ..., -0.00275874,\n",
            "       -0.0034139 , -0.00528501]), 'spk-021': array([0.01624881, 0.01593339, 0.00991478, ..., 0.01187791, 0.01254094,\n",
            "       0.01458314]), 'spk-006': array([-0.06826098, -0.01248419,  0.06130153, ...,  0.00544714,\n",
            "       -0.00366461,  0.00828585]), 'spk-007': array([ 0.00686426, -0.00060602,  0.01151299, ...,  0.0020472 ,\n",
            "        0.00358793,  0.00367213]), 'spk-008': array([-0.01210652, -0.00896797, -0.01122021, ..., -0.00162754,\n",
            "       -0.00385566,  0.00610356]), 'spk-009': array([ 0.00049282,  0.00097668, -0.00048129, ...,  0.0007334 ,\n",
            "        0.01920539,  0.03435873]), 'spk-010': array([-0.07150554, -0.09787949, -0.07955965, ..., -0.00483803,\n",
            "       -0.00303409, -0.00279612]), 'spk-011': array([ 0.00360201, -0.0264347 , -0.01953986, ..., -0.00314924,\n",
            "       -0.00346529, -0.04283744]), 'spk-012': array([-0.00734113, -0.01504474, -0.0183384 , ..., -0.08547957,\n",
            "       -0.04335226,  0.00112106]), 'spk-013': array([-0.0578488 , -0.05665853, -0.03018347, ..., -0.00218696,\n",
            "       -0.0054889 , -0.00754493]), 'spk-014': array([ 0.09454921,  0.1258635 ,  0.12494395, ..., -0.08040868,\n",
            "       -0.07254444, -0.06297174]), 'spk-015': array([-0.06200514, -0.05747694, -0.0055389 , ...,  0.00027059,\n",
            "       -0.00266568, -0.00170521]), 'spk-016': array([ 0.00158723,  0.00569056,  0.00951364, ..., -0.01839849,\n",
            "       -0.02021173, -0.01478092]), 'spk-017': array([-0.06166097, -0.07212943, -0.06886174, ...,  0.02189798,\n",
            "       -0.03027285, -0.11198987]), 'spk-018': array([ 0.01173252,  0.01720688,  0.01469258, ...,  0.00370949,\n",
            "       -0.02230545, -0.04929446]), 'spk-022': array([-0.01182573, -0.01419299, -0.0158675 , ..., -0.00823921,\n",
            "       -0.00856202, -0.00745961]), 'spk-030': array([-4.40577787e-03, -1.59896632e-03,  4.93163228e-05, ...,\n",
            "        2.35188413e-02,  1.83096906e-02,  2.42546193e-02]), 'spk-029': array([ 0.00388401, -0.01245049,  0.01212913, ..., -0.00160085,\n",
            "       -0.00245784, -0.00370729]), 'spk-028': array([-0.08510144, -0.07099454, -0.01132019, ..., -0.00959746,\n",
            "       -0.015818  ,  0.00428144]), 'spk-027': array([ 0.00418538, -0.00415361, -0.01337137, ...,  0.00218922,\n",
            "        0.00524586,  0.0064792 ]), 'spk-026': array([ 0.07077759,  0.07982287,  0.05072594, ..., -0.00788326,\n",
            "       -0.02465191, -0.03465428]), 'spk-025': array([0.00581859, 0.00770612, 0.00635661, ..., 0.11211966, 0.08238058,\n",
            "       0.08264596]), 'spk-024': array([0.00099384, 0.00257018, 0.00292263, ..., 0.08332162, 0.09420472,\n",
            "       0.09269187]), 'spk-023': array([-0.0387032 , -0.04783221, -0.03784321, ..., -0.02794817,\n",
            "       -0.03771953, -0.05609027])}\n"
          ]
        }
      ],
      "source": [
        "import os\n",
        "spk2spch = {}\n",
        "PATH = \"/content/drive/MyDrive/intern/farsdot_enrollment2/\"\n",
        "for fname in next(os.walk(PATH))[2]:\n",
        "    spk_id, _ = fname.split(\"F\")\n",
        "    speech_array, sample_rate = librosa.load(PATH + fname)\n",
        "    speech_array = speech_array.squeeze().astype(np.float)\n",
        "    speech_array = librosa.resample(np.array(speech_array), sample_rate, 16000)\n",
        "    \n",
        "    spk2spch[f\"spk-{spk_id}\"] = speech_array\n",
        "print(spk2spch)"
      ]
    },
    {
      "cell_type": "code",
      "source": [
        "!pip install transformers"
      ],
      "metadata": {
        "colab": {
          "base_uri": "https://localhost:8080/"
        },
        "id": "EiEsH0KW3y7F",
        "outputId": "68c80831-03a1-457d-81b8-7ae211d7deeb"
      },
      "execution_count": 27,
      "outputs": [
        {
          "output_type": "stream",
          "name": "stdout",
          "text": [
            "Looking in indexes: https://pypi.org/simple, https://us-python.pkg.dev/colab-wheels/public/simple/\n",
            "Requirement already satisfied: transformers in /usr/local/lib/python3.7/dist-packages (4.21.0)\n",
            "Requirement already satisfied: requests in /usr/local/lib/python3.7/dist-packages (from transformers) (2.23.0)\n",
            "Requirement already satisfied: tqdm>=4.27 in /usr/local/lib/python3.7/dist-packages (from transformers) (4.64.0)\n",
            "Requirement already satisfied: pyyaml>=5.1 in /usr/local/lib/python3.7/dist-packages (from transformers) (6.0)\n",
            "Requirement already satisfied: regex!=2019.12.17 in /usr/local/lib/python3.7/dist-packages (from transformers) (2022.6.2)\n",
            "Requirement already satisfied: importlib-metadata in /usr/local/lib/python3.7/dist-packages (from transformers) (4.12.0)\n",
            "Requirement already satisfied: huggingface-hub<1.0,>=0.1.0 in /usr/local/lib/python3.7/dist-packages (from transformers) (0.8.1)\n",
            "Requirement already satisfied: tokenizers!=0.11.3,<0.13,>=0.11.1 in /usr/local/lib/python3.7/dist-packages (from transformers) (0.12.1)\n",
            "Requirement already satisfied: packaging>=20.0 in /usr/local/lib/python3.7/dist-packages (from transformers) (21.3)\n",
            "Requirement already satisfied: numpy>=1.17 in /usr/local/lib/python3.7/dist-packages (from transformers) (1.21.6)\n",
            "Requirement already satisfied: filelock in /usr/local/lib/python3.7/dist-packages (from transformers) (3.7.1)\n",
            "Requirement already satisfied: typing-extensions>=3.7.4.3 in /usr/local/lib/python3.7/dist-packages (from huggingface-hub<1.0,>=0.1.0->transformers) (4.1.1)\n",
            "Requirement already satisfied: pyparsing!=3.0.5,>=2.0.2 in /usr/local/lib/python3.7/dist-packages (from packaging>=20.0->transformers) (3.0.9)\n",
            "Requirement already satisfied: zipp>=0.5 in /usr/local/lib/python3.7/dist-packages (from importlib-metadata->transformers) (3.8.1)\n",
            "Requirement already satisfied: idna<3,>=2.5 in /usr/local/lib/python3.7/dist-packages (from requests->transformers) (2.10)\n",
            "Requirement already satisfied: certifi>=2017.4.17 in /usr/local/lib/python3.7/dist-packages (from requests->transformers) (2022.6.15)\n",
            "Requirement already satisfied: urllib3!=1.25.0,!=1.25.1,<1.26,>=1.21.1 in /usr/local/lib/python3.7/dist-packages (from requests->transformers) (1.25.11)\n",
            "Requirement already satisfied: chardet<4,>=3.0.2 in /usr/local/lib/python3.7/dist-packages (from requests->transformers) (3.0.4)\n"
          ]
        }
      ]
    },
    {
      "cell_type": "code",
      "source": [
        "!pip install datasets"
      ],
      "metadata": {
        "colab": {
          "base_uri": "https://localhost:8080/",
          "height": 1000
        },
        "id": "V-_OL_E24E1t",
        "outputId": "cc76fe52-19cd-4ae6-d438-70979d4ac2b0"
      },
      "execution_count": 9,
      "outputs": [
        {
          "output_type": "stream",
          "name": "stdout",
          "text": [
            "Looking in indexes: https://pypi.org/simple, https://us-python.pkg.dev/colab-wheels/public/simple/\n",
            "Collecting datasets\n",
            "  Downloading datasets-2.4.0-py3-none-any.whl (365 kB)\n",
            "\u001b[K     |████████████████████████████████| 365 kB 3.9 MB/s \n",
            "\u001b[?25hRequirement already satisfied: pandas in /usr/local/lib/python3.7/dist-packages (from datasets) (1.3.5)\n",
            "Requirement already satisfied: tqdm>=4.62.1 in /usr/local/lib/python3.7/dist-packages (from datasets) (4.64.0)\n",
            "Requirement already satisfied: dill<0.3.6 in /usr/local/lib/python3.7/dist-packages (from datasets) (0.3.5.1)\n",
            "Collecting xxhash\n",
            "  Downloading xxhash-3.0.0-cp37-cp37m-manylinux_2_17_x86_64.manylinux2014_x86_64.whl (212 kB)\n",
            "\u001b[K     |████████████████████████████████| 212 kB 53.8 MB/s \n",
            "\u001b[?25hRequirement already satisfied: packaging in /usr/local/lib/python3.7/dist-packages (from datasets) (21.3)\n",
            "Requirement already satisfied: requests>=2.19.0 in /usr/local/lib/python3.7/dist-packages (from datasets) (2.23.0)\n",
            "Collecting fsspec[http]>=2021.11.1\n",
            "  Downloading fsspec-2022.7.1-py3-none-any.whl (141 kB)\n",
            "\u001b[K     |████████████████████████████████| 141 kB 52.6 MB/s \n",
            "\u001b[?25hRequirement already satisfied: aiohttp in /usr/local/lib/python3.7/dist-packages (from datasets) (3.8.1)\n",
            "Requirement already satisfied: pyarrow>=6.0.0 in /usr/local/lib/python3.7/dist-packages (from datasets) (6.0.1)\n",
            "Requirement already satisfied: huggingface-hub<1.0.0,>=0.1.0 in /usr/local/lib/python3.7/dist-packages (from datasets) (0.8.1)\n",
            "Requirement already satisfied: importlib-metadata in /usr/local/lib/python3.7/dist-packages (from datasets) (4.12.0)\n",
            "Requirement already satisfied: numpy>=1.17 in /usr/local/lib/python3.7/dist-packages (from datasets) (1.21.6)\n",
            "Collecting responses<0.19\n",
            "  Downloading responses-0.18.0-py3-none-any.whl (38 kB)\n",
            "Collecting multiprocess\n",
            "  Downloading multiprocess-0.70.13-py37-none-any.whl (115 kB)\n",
            "\u001b[K     |████████████████████████████████| 115 kB 56.2 MB/s \n",
            "\u001b[?25hRequirement already satisfied: filelock in /usr/local/lib/python3.7/dist-packages (from huggingface-hub<1.0.0,>=0.1.0->datasets) (3.7.1)\n",
            "Requirement already satisfied: pyyaml>=5.1 in /usr/local/lib/python3.7/dist-packages (from huggingface-hub<1.0.0,>=0.1.0->datasets) (6.0)\n",
            "Requirement already satisfied: typing-extensions>=3.7.4.3 in /usr/local/lib/python3.7/dist-packages (from huggingface-hub<1.0.0,>=0.1.0->datasets) (4.1.1)\n",
            "Requirement already satisfied: pyparsing!=3.0.5,>=2.0.2 in /usr/local/lib/python3.7/dist-packages (from packaging->datasets) (3.0.9)\n",
            "Requirement already satisfied: idna<3,>=2.5 in /usr/local/lib/python3.7/dist-packages (from requests>=2.19.0->datasets) (2.10)\n",
            "Requirement already satisfied: urllib3!=1.25.0,!=1.25.1,<1.26,>=1.21.1 in /usr/local/lib/python3.7/dist-packages (from requests>=2.19.0->datasets) (1.24.3)\n",
            "Requirement already satisfied: chardet<4,>=3.0.2 in /usr/local/lib/python3.7/dist-packages (from requests>=2.19.0->datasets) (3.0.4)\n",
            "Requirement already satisfied: certifi>=2017.4.17 in /usr/local/lib/python3.7/dist-packages (from requests>=2.19.0->datasets) (2022.6.15)\n",
            "Collecting urllib3!=1.25.0,!=1.25.1,<1.26,>=1.21.1\n",
            "  Downloading urllib3-1.25.11-py2.py3-none-any.whl (127 kB)\n",
            "\u001b[K     |████████████████████████████████| 127 kB 60.9 MB/s \n",
            "\u001b[?25hRequirement already satisfied: asynctest==0.13.0 in /usr/local/lib/python3.7/dist-packages (from aiohttp->datasets) (0.13.0)\n",
            "Requirement already satisfied: async-timeout<5.0,>=4.0.0a3 in /usr/local/lib/python3.7/dist-packages (from aiohttp->datasets) (4.0.2)\n",
            "Requirement already satisfied: yarl<2.0,>=1.0 in /usr/local/lib/python3.7/dist-packages (from aiohttp->datasets) (1.7.2)\n",
            "Requirement already satisfied: frozenlist>=1.1.1 in /usr/local/lib/python3.7/dist-packages (from aiohttp->datasets) (1.3.0)\n",
            "Requirement already satisfied: aiosignal>=1.1.2 in /usr/local/lib/python3.7/dist-packages (from aiohttp->datasets) (1.2.0)\n",
            "Requirement already satisfied: multidict<7.0,>=4.5 in /usr/local/lib/python3.7/dist-packages (from aiohttp->datasets) (6.0.2)\n",
            "Requirement already satisfied: charset-normalizer<3.0,>=2.0 in /usr/local/lib/python3.7/dist-packages (from aiohttp->datasets) (2.1.0)\n",
            "Requirement already satisfied: attrs>=17.3.0 in /usr/local/lib/python3.7/dist-packages (from aiohttp->datasets) (22.1.0)\n",
            "Requirement already satisfied: zipp>=0.5 in /usr/local/lib/python3.7/dist-packages (from importlib-metadata->datasets) (3.8.1)\n",
            "Requirement already satisfied: pytz>=2017.3 in /usr/local/lib/python3.7/dist-packages (from pandas->datasets) (2022.1)\n",
            "Requirement already satisfied: python-dateutil>=2.7.3 in /usr/local/lib/python3.7/dist-packages (from pandas->datasets) (2.8.2)\n",
            "Requirement already satisfied: six>=1.5 in /usr/local/lib/python3.7/dist-packages (from python-dateutil>=2.7.3->pandas->datasets) (1.15.0)\n",
            "Installing collected packages: urllib3, fsspec, xxhash, responses, multiprocess, datasets\n",
            "  Attempting uninstall: urllib3\n",
            "    Found existing installation: urllib3 1.24.3\n",
            "    Uninstalling urllib3-1.24.3:\n",
            "      Successfully uninstalled urllib3-1.24.3\n",
            "Successfully installed datasets-2.4.0 fsspec-2022.7.1 multiprocess-0.70.13 responses-0.18.0 urllib3-1.25.11 xxhash-3.0.0\n"
          ]
        },
        {
          "output_type": "display_data",
          "data": {
            "application/vnd.colab-display-data+json": {
              "pip_warning": {
                "packages": [
                  "urllib3"
                ]
              }
            }
          },
          "metadata": {}
        }
      ]
    },
    {
      "cell_type": "code",
      "execution_count": 11,
      "metadata": {
        "colab": {
          "base_uri": "https://localhost:8080/",
          "height": 588
        },
        "id": "fWNtdHBI0Znh",
        "outputId": "3f82e1ed-9949-4a93-fa05-d88f2c12e5fb"
      },
      "outputs": [
        {
          "output_type": "error",
          "ename": "OSError",
          "evalue": "ignored",
          "traceback": [
            "\u001b[0;31m---------------------------------------------------------------------------\u001b[0m",
            "\u001b[0;31mValueError\u001b[0m                                Traceback (most recent call last)",
            "\u001b[0;32m/usr/local/lib/python3.7/dist-packages/transformers/configuration_utils.py\u001b[0m in \u001b[0;36m_get_config_dict\u001b[0;34m(cls, pretrained_model_name_or_path, **kwargs)\u001b[0m\n\u001b[1;32m    623\u001b[0m                 \u001b[0muse_auth_token\u001b[0m\u001b[0;34m=\u001b[0m\u001b[0muse_auth_token\u001b[0m\u001b[0;34m,\u001b[0m\u001b[0;34m\u001b[0m\u001b[0;34m\u001b[0m\u001b[0m\n\u001b[0;32m--> 624\u001b[0;31m                 \u001b[0muser_agent\u001b[0m\u001b[0;34m=\u001b[0m\u001b[0muser_agent\u001b[0m\u001b[0;34m,\u001b[0m\u001b[0;34m\u001b[0m\u001b[0;34m\u001b[0m\u001b[0m\n\u001b[0m\u001b[1;32m    625\u001b[0m             )\n",
            "\u001b[0;32m/usr/local/lib/python3.7/dist-packages/transformers/utils/hub.py\u001b[0m in \u001b[0;36mcached_path\u001b[0;34m(url_or_filename, cache_dir, force_download, proxies, resume_download, user_agent, extract_compressed_file, force_extract, use_auth_token, local_files_only)\u001b[0m\n\u001b[1;32m    291\u001b[0m             \u001b[0muse_auth_token\u001b[0m\u001b[0;34m=\u001b[0m\u001b[0muse_auth_token\u001b[0m\u001b[0;34m,\u001b[0m\u001b[0;34m\u001b[0m\u001b[0;34m\u001b[0m\u001b[0m\n\u001b[0;32m--> 292\u001b[0;31m             \u001b[0mlocal_files_only\u001b[0m\u001b[0;34m=\u001b[0m\u001b[0mlocal_files_only\u001b[0m\u001b[0;34m,\u001b[0m\u001b[0;34m\u001b[0m\u001b[0;34m\u001b[0m\u001b[0m\n\u001b[0m\u001b[1;32m    293\u001b[0m         )\n",
            "\u001b[0;32m/usr/local/lib/python3.7/dist-packages/transformers/utils/hub.py\u001b[0m in \u001b[0;36mget_from_cache\u001b[0;34m(url, cache_dir, force_download, proxies, etag_timeout, resume_download, user_agent, use_auth_token, local_files_only)\u001b[0m\n\u001b[1;32m    562\u001b[0m                     raise ValueError(\n\u001b[0;32m--> 563\u001b[0;31m                         \u001b[0;34m\"Connection error, and we cannot find the requested files in the cached path.\"\u001b[0m\u001b[0;34m\u001b[0m\u001b[0;34m\u001b[0m\u001b[0m\n\u001b[0m\u001b[1;32m    564\u001b[0m                         \u001b[0;34m\" Please try again or make sure your Internet connection is on.\"\u001b[0m\u001b[0;34m\u001b[0m\u001b[0;34m\u001b[0m\u001b[0m\n",
            "\u001b[0;31mValueError\u001b[0m: Connection error, and we cannot find the requested files in the cached path. Please try again or make sure your Internet connection is on.",
            "\nDuring handling of the above exception, another exception occurred:\n",
            "\u001b[0;31mOSError\u001b[0m                                   Traceback (most recent call last)",
            "\u001b[0;32m<ipython-input-11-0f829a18e13a>\u001b[0m in \u001b[0;36m<module>\u001b[0;34m()\u001b[0m\n\u001b[1;32m      3\u001b[0m \u001b[0;32mimport\u001b[0m \u001b[0mtorch\u001b[0m\u001b[0;34m\u001b[0m\u001b[0;34m\u001b[0m\u001b[0m\n\u001b[1;32m      4\u001b[0m \u001b[0mfeature_extractor\u001b[0m \u001b[0;34m=\u001b[0m \u001b[0mWav2Vec2FeatureExtractor\u001b[0m\u001b[0;34m.\u001b[0m\u001b[0mfrom_pretrained\u001b[0m\u001b[0;34m(\u001b[0m\u001b[0;34m\"microsoft/wavlm-large\"\u001b[0m\u001b[0;34m)\u001b[0m\u001b[0;34m\u001b[0m\u001b[0;34m\u001b[0m\u001b[0m\n\u001b[0;32m----> 5\u001b[0;31m \u001b[0mmodel\u001b[0m \u001b[0;34m=\u001b[0m \u001b[0mWavLMForXVector\u001b[0m\u001b[0;34m.\u001b[0m\u001b[0mfrom_pretrained\u001b[0m\u001b[0;34m(\u001b[0m\u001b[0;34m\"/microsoft/wavlm-large\"\u001b[0m\u001b[0;34m)\u001b[0m\u001b[0;34m\u001b[0m\u001b[0;34m\u001b[0m\u001b[0m\n\u001b[0m\u001b[1;32m      6\u001b[0m \u001b[0mthreshold\u001b[0m \u001b[0;34m=\u001b[0m \u001b[0;36m0.9\u001b[0m\u001b[0;34m\u001b[0m\u001b[0;34m\u001b[0m\u001b[0m\n\u001b[1;32m      7\u001b[0m \u001b[0msimilarities\u001b[0m \u001b[0;34m=\u001b[0m \u001b[0;34m[\u001b[0m\u001b[0;34m]\u001b[0m\u001b[0;34m\u001b[0m\u001b[0;34m\u001b[0m\u001b[0m\n",
            "\u001b[0;32m/usr/local/lib/python3.7/dist-packages/transformers/modeling_utils.py\u001b[0m in \u001b[0;36mfrom_pretrained\u001b[0;34m(cls, pretrained_model_name_or_path, *model_args, **kwargs)\u001b[0m\n\u001b[1;32m   1844\u001b[0m                 \u001b[0m_from_auto\u001b[0m\u001b[0;34m=\u001b[0m\u001b[0mfrom_auto_class\u001b[0m\u001b[0;34m,\u001b[0m\u001b[0;34m\u001b[0m\u001b[0;34m\u001b[0m\u001b[0m\n\u001b[1;32m   1845\u001b[0m                 \u001b[0m_from_pipeline\u001b[0m\u001b[0;34m=\u001b[0m\u001b[0mfrom_pipeline\u001b[0m\u001b[0;34m,\u001b[0m\u001b[0;34m\u001b[0m\u001b[0;34m\u001b[0m\u001b[0m\n\u001b[0;32m-> 1846\u001b[0;31m                 \u001b[0;34m**\u001b[0m\u001b[0mkwargs\u001b[0m\u001b[0;34m,\u001b[0m\u001b[0;34m\u001b[0m\u001b[0;34m\u001b[0m\u001b[0m\n\u001b[0m\u001b[1;32m   1847\u001b[0m             )\n\u001b[1;32m   1848\u001b[0m         \u001b[0;32melse\u001b[0m\u001b[0;34m:\u001b[0m\u001b[0;34m\u001b[0m\u001b[0;34m\u001b[0m\u001b[0m\n",
            "\u001b[0;32m/usr/local/lib/python3.7/dist-packages/transformers/configuration_utils.py\u001b[0m in \u001b[0;36mfrom_pretrained\u001b[0;34m(cls, pretrained_model_name_or_path, **kwargs)\u001b[0m\n\u001b[1;32m    532\u001b[0m         \u001b[0;32massert\u001b[0m \u001b[0munused_kwargs\u001b[0m \u001b[0;34m==\u001b[0m \u001b[0;34m{\u001b[0m\u001b[0;34m\"foo\"\u001b[0m\u001b[0;34m:\u001b[0m \u001b[0;32mFalse\u001b[0m\u001b[0;34m}\u001b[0m\u001b[0;34m\u001b[0m\u001b[0;34m\u001b[0m\u001b[0m\n\u001b[1;32m    533\u001b[0m         ```\"\"\"\n\u001b[0;32m--> 534\u001b[0;31m         \u001b[0mconfig_dict\u001b[0m\u001b[0;34m,\u001b[0m \u001b[0mkwargs\u001b[0m \u001b[0;34m=\u001b[0m \u001b[0mcls\u001b[0m\u001b[0;34m.\u001b[0m\u001b[0mget_config_dict\u001b[0m\u001b[0;34m(\u001b[0m\u001b[0mpretrained_model_name_or_path\u001b[0m\u001b[0;34m,\u001b[0m \u001b[0;34m**\u001b[0m\u001b[0mkwargs\u001b[0m\u001b[0;34m)\u001b[0m\u001b[0;34m\u001b[0m\u001b[0;34m\u001b[0m\u001b[0m\n\u001b[0m\u001b[1;32m    535\u001b[0m         \u001b[0;32mif\u001b[0m \u001b[0;34m\"model_type\"\u001b[0m \u001b[0;32min\u001b[0m \u001b[0mconfig_dict\u001b[0m \u001b[0;32mand\u001b[0m \u001b[0mhasattr\u001b[0m\u001b[0;34m(\u001b[0m\u001b[0mcls\u001b[0m\u001b[0;34m,\u001b[0m \u001b[0;34m\"model_type\"\u001b[0m\u001b[0;34m)\u001b[0m \u001b[0;32mand\u001b[0m \u001b[0mconfig_dict\u001b[0m\u001b[0;34m[\u001b[0m\u001b[0;34m\"model_type\"\u001b[0m\u001b[0;34m]\u001b[0m \u001b[0;34m!=\u001b[0m \u001b[0mcls\u001b[0m\u001b[0;34m.\u001b[0m\u001b[0mmodel_type\u001b[0m\u001b[0;34m:\u001b[0m\u001b[0;34m\u001b[0m\u001b[0;34m\u001b[0m\u001b[0m\n\u001b[1;32m    536\u001b[0m             logger.warning(\n",
            "\u001b[0;32m/usr/local/lib/python3.7/dist-packages/transformers/configuration_utils.py\u001b[0m in \u001b[0;36mget_config_dict\u001b[0;34m(cls, pretrained_model_name_or_path, **kwargs)\u001b[0m\n\u001b[1;32m    559\u001b[0m         \u001b[0moriginal_kwargs\u001b[0m \u001b[0;34m=\u001b[0m \u001b[0mcopy\u001b[0m\u001b[0;34m.\u001b[0m\u001b[0mdeepcopy\u001b[0m\u001b[0;34m(\u001b[0m\u001b[0mkwargs\u001b[0m\u001b[0;34m)\u001b[0m\u001b[0;34m\u001b[0m\u001b[0;34m\u001b[0m\u001b[0m\n\u001b[1;32m    560\u001b[0m         \u001b[0;31m# Get config dict associated with the base config file\u001b[0m\u001b[0;34m\u001b[0m\u001b[0;34m\u001b[0m\u001b[0;34m\u001b[0m\u001b[0m\n\u001b[0;32m--> 561\u001b[0;31m         \u001b[0mconfig_dict\u001b[0m\u001b[0;34m,\u001b[0m \u001b[0mkwargs\u001b[0m \u001b[0;34m=\u001b[0m \u001b[0mcls\u001b[0m\u001b[0;34m.\u001b[0m\u001b[0m_get_config_dict\u001b[0m\u001b[0;34m(\u001b[0m\u001b[0mpretrained_model_name_or_path\u001b[0m\u001b[0;34m,\u001b[0m \u001b[0;34m**\u001b[0m\u001b[0mkwargs\u001b[0m\u001b[0;34m)\u001b[0m\u001b[0;34m\u001b[0m\u001b[0;34m\u001b[0m\u001b[0m\n\u001b[0m\u001b[1;32m    562\u001b[0m \u001b[0;34m\u001b[0m\u001b[0m\n\u001b[1;32m    563\u001b[0m         \u001b[0;31m# That config file may point us toward another config file to use.\u001b[0m\u001b[0;34m\u001b[0m\u001b[0;34m\u001b[0m\u001b[0;34m\u001b[0m\u001b[0m\n",
            "\u001b[0;32m/usr/local/lib/python3.7/dist-packages/transformers/configuration_utils.py\u001b[0m in \u001b[0;36m_get_config_dict\u001b[0;34m(cls, pretrained_model_name_or_path, **kwargs)\u001b[0m\n\u001b[1;32m    648\u001b[0m         \u001b[0;32mexcept\u001b[0m \u001b[0mValueError\u001b[0m\u001b[0;34m:\u001b[0m\u001b[0;34m\u001b[0m\u001b[0;34m\u001b[0m\u001b[0m\n\u001b[1;32m    649\u001b[0m             raise EnvironmentError(\n\u001b[0;32m--> 650\u001b[0;31m                 \u001b[0;34mf\"We couldn't connect to '{HUGGINGFACE_CO_RESOLVE_ENDPOINT}' to load this model, couldn't find it in\"\u001b[0m\u001b[0;34m\u001b[0m\u001b[0;34m\u001b[0m\u001b[0m\n\u001b[0m\u001b[1;32m    651\u001b[0m                 \u001b[0;34mf\" the cached files and it looks like {pretrained_model_name_or_path} is not the path to a directory\"\u001b[0m\u001b[0;34m\u001b[0m\u001b[0;34m\u001b[0m\u001b[0m\n\u001b[1;32m    652\u001b[0m                 \u001b[0;34mf\" containing a {configuration_file} file.\\nCheckout your internet connection or see how to run the\"\u001b[0m\u001b[0;34m\u001b[0m\u001b[0;34m\u001b[0m\u001b[0m\n",
            "\u001b[0;31mOSError\u001b[0m: We couldn't connect to 'https://huggingface.co' to load this model, couldn't find it in the cached files and it looks like /microsoft/wavlm-large is not the path to a directory containing a config.json file.\nCheckout your internet connection or see how to run the library in offline mode at 'https://huggingface.co/docs/transformers/installation#offline-mode'."
          ]
        }
      ],
      "source": [
        "from transformers import Wav2Vec2FeatureExtractor, WavLMForXVector\n",
        "from datasets import load_dataset\n",
        "import torch\n",
        "feature_extractor = Wav2Vec2FeatureExtractor.from_pretrained(\"/content/drive/MyDrive/intern/wavlm large\")\n",
        "model = WavLMForXVector.from_pretrained(\"/content/drive/MyDrive/intern/wavlm large\")\n",
        "threshold = 0.9\n",
        "similarities = []"
      ]
    },
    {
      "cell_type": "code",
      "execution_count": 31,
      "metadata": {
        "colab": {
          "base_uri": "https://localhost:8080/",
          "height": 252
        },
        "id": "f_NlDq4v0Zni",
        "outputId": "a5723190-3035-4bd5-8f7d-40fb96d4ab2e"
      },
      "outputs": [
        {
          "output_type": "stream",
          "name": "stdout",
          "text": [
            "/content/drive/MyDrive/intern/wavlm large/farsdot/001F02.WAV.WAV spk-001 target\n"
          ]
        },
        {
          "output_type": "error",
          "ename": "NameError",
          "evalue": "ignored",
          "traceback": [
            "\u001b[0;31m---------------------------------------------------------------------------\u001b[0m",
            "\u001b[0;31mNameError\u001b[0m                                 Traceback (most recent call last)",
            "\u001b[0;32m<ipython-input-31-5e6b94b3ced4>\u001b[0m in \u001b[0;36m<module>\u001b[0;34m()\u001b[0m\n\u001b[1;32m     22\u001b[0m \u001b[0;34m\u001b[0m\u001b[0m\n\u001b[1;32m     23\u001b[0m         \u001b[0;32mwith\u001b[0m \u001b[0mtorch\u001b[0m\u001b[0;34m.\u001b[0m\u001b[0mno_grad\u001b[0m\u001b[0;34m(\u001b[0m\u001b[0;34m)\u001b[0m\u001b[0;34m:\u001b[0m\u001b[0;34m\u001b[0m\u001b[0;34m\u001b[0m\u001b[0m\n\u001b[0;32m---> 24\u001b[0;31m             \u001b[0membeddings\u001b[0m \u001b[0;34m=\u001b[0m \u001b[0mmodel\u001b[0m\u001b[0;34m(\u001b[0m\u001b[0;34m**\u001b[0m\u001b[0minputs\u001b[0m\u001b[0;34m)\u001b[0m\u001b[0;34m.\u001b[0m\u001b[0membeddings\u001b[0m\u001b[0;34m\u001b[0m\u001b[0;34m\u001b[0m\u001b[0m\n\u001b[0m\u001b[1;32m     25\u001b[0m \u001b[0;34m\u001b[0m\u001b[0m\n\u001b[1;32m     26\u001b[0m         \u001b[0membeddings\u001b[0m \u001b[0;34m=\u001b[0m \u001b[0mtorch\u001b[0m\u001b[0;34m.\u001b[0m\u001b[0mnn\u001b[0m\u001b[0;34m.\u001b[0m\u001b[0mfunctional\u001b[0m\u001b[0;34m.\u001b[0m\u001b[0mnormalize\u001b[0m\u001b[0;34m(\u001b[0m\u001b[0membeddings\u001b[0m\u001b[0;34m,\u001b[0m \u001b[0mdim\u001b[0m\u001b[0;34m=\u001b[0m\u001b[0;34m-\u001b[0m\u001b[0;36m1\u001b[0m\u001b[0;34m)\u001b[0m\u001b[0;34m.\u001b[0m\u001b[0mcpu\u001b[0m\u001b[0;34m(\u001b[0m\u001b[0;34m)\u001b[0m\u001b[0;34m\u001b[0m\u001b[0;34m\u001b[0m\u001b[0m\n",
            "\u001b[0;31mNameError\u001b[0m: name 'model' is not defined"
          ]
        }
      ],
      "source": [
        "from os.path import exists\n",
        "\n",
        "with open('/content/drive/MyDrive/intern/farsdot/trials') as f:\n",
        "    for line in f:\n",
        "        line = line.strip()\n",
        "        spk_id, utt_id, target_nontarget = line.split()\n",
        "        path = \"/content/drive/MyDrive/intern/wavlm large/farsdot/\"  + utt_id.split(\"-\")[1] + \".wav.wav\"\n",
        "        if exists(path) is False:\n",
        "            path = \"/content/drive/MyDrive/intern/wavlm large/farsdot/\"  + utt_id.split(\"-\")[1] + \".WAV.WAV\"\n",
        "        \n",
        "        speech_array2, sample_rate =librosa.load(path)\n",
        "        print(path, spk_id, target_nontarget)\n",
        "        speech_array2 = speech_array2.squeeze().astype(float)\n",
        "        speech_array2 = librosa.resample(np.array(speech_array2), sample_rate, 16000)\n",
        "        speech3 = [spk2spch[spk_id], speech_array2]\n",
        "        \n",
        "        inputs= feature_extractor(\n",
        "            speech3,\n",
        "            sampling_rate=16000,\n",
        "            return_tensors=\"pt\",\n",
        "            padding=True)\n",
        "\n",
        "        with torch.no_grad():\n",
        "            embeddings = model(**inputs).embeddings\n",
        "\n",
        "        embeddings = torch.nn.functional.normalize(embeddings, dim=-1).cpu()\n",
        "        cosine_sim = torch.nn.CosineSimilarity(dim=-1)\n",
        "        similarity = cosine_sim(embeddings[0], embeddings[1])\n",
        "        similarities.append(similarity.item())\n",
        "        print(similarity.item())"
      ]
    },
    {
      "cell_type": "code",
      "execution_count": null,
      "metadata": {
        "id": "EOOY9uVk0Znk"
      },
      "outputs": [],
      "source": [
        "np.save(\"similarities.npy\", np.array(similarities))"
      ]
    },
    {
      "cell_type": "code",
      "execution_count": null,
      "metadata": {
        "id": "JSGwogWs0Znm"
      },
      "outputs": [],
      "source": [
        "actual_vector = []\n",
        "with open('/content/drive/MyDrive/intern/wavlm large/farsdot/trials') as f:\n",
        "    for line in f:\n",
        "        line = line.strip()\n",
        "        spk_id, utt_id, target_nontarget = line.split()\n",
        "        if target_nontarget == \"nontarget\":\n",
        "            actual_vector.append(0)\n",
        "        else:\n",
        "            actual_vector.append(1)\n",
        "actual_vector = np.array(actual_vector)"
      ]
    },
    {
      "cell_type": "markdown",
      "metadata": {
        "id": "8CaF9h9p0Znn"
      },
      "source": [
        "ROC:"
      ]
    },
    {
      "cell_type": "code",
      "execution_count": null,
      "metadata": {
        "id": "Z9kPbStN0Zno"
      },
      "outputs": [],
      "source": [
        "threshold = 0.957"
      ]
    },
    {
      "cell_type": "code",
      "execution_count": null,
      "metadata": {
        "id": "IeGmQYNA0Zno",
        "outputId": "5f3874ad-2798-4f11-d99e-1b2f43173c8f"
      },
      "outputs": [
        {
          "name": "stdout",
          "output_type": "stream",
          "text": [
            "[1 1 1 ... 1 0 1]\n",
            "[1 1 1 ... 1 1 1]\n"
          ]
        }
      ],
      "source": [
        "similarities = np.array(similarities)\n",
        "predict_vector = (similarities > threshold) * 1\n",
        "print(predict_vector)\n",
        "print(actual_vector)"
      ]
    },
    {
      "cell_type": "code",
      "execution_count": null,
      "metadata": {
        "id": "VTmbaEQ_0Znp"
      },
      "outputs": [],
      "source": [
        "np.save(\"actual_vector.npy\", np.array(actual_vector))"
      ]
    },
    {
      "cell_type": "code",
      "execution_count": null,
      "metadata": {
        "id": "iCWjz5q70Znq"
      },
      "outputs": [],
      "source": [
        "actual_vector = np.load(\"actual_vector.npy\")\n",
        "predict_vector = np.load(\"predict_vector.npy\")\n",
        "similarities = np.load(\"similarities.npy\")"
      ]
    },
    {
      "cell_type": "code",
      "execution_count": null,
      "metadata": {
        "id": "cxlsE1DG0Znq",
        "outputId": "564e1420-2aec-4e1d-e31c-5494d6a32c55"
      },
      "outputs": [
        {
          "data": {
            "text/plain": [
              "0.04765432098765432"
            ]
          },
          "execution_count": 19,
          "metadata": {},
          "output_type": "execute_result"
        }
      ],
      "source": [
        "sum(predict_vector != actual_vector) / len(actual_vector)"
      ]
    },
    {
      "cell_type": "code",
      "execution_count": null,
      "metadata": {
        "colab": {
          "base_uri": "https://localhost:8080/"
        },
        "id": "Saz1XOuOe2j5",
        "outputId": "de1c5fe2-535c-4a79-e3f8-46ec0f62f037",
        "scrolled": true
      },
      "outputs": [
        {
          "data": {
            "text/plain": [
              "pycm.ConfusionMatrix(classes: [0, 1])"
            ]
          },
          "execution_count": 29,
          "metadata": {},
          "output_type": "execute_result"
        }
      ],
      "source": [
        "from pycm import ConfusionMatrix\n",
        "cm = ConfusionMatrix(actual_vector, predict_vector)\n",
        "cm"
      ]
    },
    {
      "cell_type": "code",
      "execution_count": null,
      "metadata": {
        "id": "5PwOaGMg0Zns",
        "outputId": "18a491e8-1316-49dc-8cd7-5b3db8b603aa"
      },
      "outputs": [
        {
          "data": {
            "text/plain": [
              "<AxesSubplot:title={'center':'Confusion Matrix'}, xlabel='Predicted Classes', ylabel='Actual Classes'>"
            ]
          },
          "execution_count": 30,
          "metadata": {},
          "output_type": "execute_result"
        },
        {
          "data": {
            "image/png": "[encoded data removed]",
            "text/plain": [
              "<Figure size 432x288 with 2 Axes>"
            ]
          },
          "metadata": {
            "needs_background": "light"
          },
          "output_type": "display_data"
        }
      ],
      "source": [
        "cm.plot()"
      ]
    },
    {
      "cell_type": "code",
      "execution_count": null,
      "metadata": {
        "id": "7D2DR7zl0Zns",
        "outputId": "81e2d6ec-86a6-4b8b-ae5c-d9d662344bac"
      },
      "outputs": [
        {
          "name": "stdout",
          "output_type": "stream",
          "text": [
            "Predict    0          1          \n",
            "Actual\n",
            "0          7758       72         \n",
            "\n",
            "1          78         192        \n",
            "\n",
            "\n",
            "\n",
            "\n",
            "\n",
            "Overall Statistics : \n",
            "\n",
            "95% CI                                                            (0.97855,0.98442)\n",
            "ACC Macro                                                         0.98148\n",
            "ARI                                                               0.69549\n",
            "AUNP                                                              0.85096\n",
            "AUNU                                                              0.85096\n",
            "Bangdiwala B                                                      0.9804\n",
            "Bennett S                                                         0.96296\n",
            "CBA                                                               0.85058\n",
            "CSI                                                               0.70962\n",
            "Chi-Squared                                                       4078.32766\n",
            "Chi-Squared DF                                                    1\n",
            "Conditional Entropy                                               0.10181\n",
            "Cramer V                                                          0.70958\n",
            "Cross Entropy                                                     0.21085\n",
            "F1 Macro                                                          0.85476\n",
            "F1 Micro                                                          0.98148\n",
            "FNR Macro                                                         0.14904\n",
            "FNR Micro                                                         0.01852\n",
            "FPR Macro                                                         0.14904\n",
            "FPR Micro                                                         0.01852\n",
            "Gwet AC1                                                          0.98022\n",
            "Hamming Loss                                                      0.01852\n",
            "Joint Entropy                                                     0.31265\n",
            "KL Divergence                                                     1e-05\n",
            "Kappa                                                             0.70953\n",
            "Kappa 95% CI                                                      (0.66347,0.75558)\n",
            "Kappa No Prevalence                                               0.96296\n",
            "Kappa Standard Error                                              0.0235\n",
            "Kappa Unbiased                                                    0.70953\n",
            "Krippendorff Alpha                                                0.70954\n",
            "Lambda A                                                          0.44444\n",
            "Lambda B                                                          0.43182\n",
            "Mutual Information                                                0.10543\n",
            "NIR                                                               0.96667\n",
            "Overall ACC                                                       0.98148\n",
            "Overall CEN                                                       0.09756\n",
            "Overall J                                                         (1.54244,0.77122)\n",
            "Overall MCC                                                       0.70958\n",
            "Overall MCEN                                                      0.08247\n",
            "Overall RACC                                                      0.93625\n",
            "Overall RACCU                                                     0.93625\n",
            "P-Value                                                           None\n",
            "PPV Macro                                                         0.85866\n",
            "PPV Micro                                                         0.98148\n",
            "Pearson C                                                         0.57869\n",
            "Phi-Squared                                                       0.5035\n",
            "RCI                                                               0.50002\n",
            "RR                                                                4050.0\n",
            "Reference Entropy                                                 0.21084\n",
            "Response Entropy                                                  0.20723\n",
            "SOA1(Landis & Koch)                                               Substantial\n",
            "SOA2(Fleiss)                                                      Intermediate to Good\n",
            "SOA3(Altman)                                                      Good\n",
            "SOA4(Cicchetti)                                                   Good\n",
            "SOA5(Cramer)                                                      Strong\n",
            "SOA6(Matthews)                                                    Strong\n",
            "Scott PI                                                          0.70953\n",
            "Standard Error                                                    0.0015\n",
            "TNR Macro                                                         0.85096\n",
            "TNR Micro                                                         0.98148\n",
            "TPR Macro                                                         0.85096\n",
            "TPR Micro                                                         0.98148\n",
            "Zero-one Loss                                                     150\n",
            "\n",
            "Class Statistics :\n",
            "\n",
            "Classes                                                           0             1             \n",
            "ACC(Accuracy)                                                     0.98148       0.98148       \n",
            "AGF(Adjusted F-score)                                             0.84689       0.841         \n",
            "AGM(Adjusted geometric mean)                                      0.83525       0.91381       \n",
            "AM(Difference between automatic and manual classification)        6             -6            \n",
            "AUC(Area under the ROC curve)                                     0.85096       0.85096       \n",
            "AUCI(AUC value interpretation)                                    Very Good     Very Good     \n",
            "AUPR(Area under the PR curve)                                     0.99043       0.71919       \n",
            "BCD(Bray-Curtis dissimilarity)                                    0.00037       0.00037       \n",
            "BM(Informedness or bookmaker informedness)                        0.70192       0.70192       \n",
            "CEN(Confusion entropy)                                            0.07378       0.79515       \n",
            "DOR(Diagnostic odds ratio)                                        265.23077     265.23077     \n",
            "DP(Discriminant power)                                            1.33621       1.33621       \n",
            "DPI(Discriminant power interpretation)                            Limited       Limited       \n",
            "ERR(Error rate)                                                   0.01852       0.01852       \n",
            "F0.5(F0.5 score)                                                  0.9902        0.72398       \n",
            "F1(F1 score - harmonic mean of precision and sensitivity)         0.99043       0.7191        \n",
            "F2(F2 score)                                                      0.99065       0.71429       \n",
            "FDR(False discovery rate)                                         0.00995       0.27273       \n",
            "FN(False negative/miss/type 2 error)                              72            78            \n",
            "FNR(Miss rate or false negative rate)                             0.0092        0.28889       \n",
            "FOR(False omission rate)                                          0.27273       0.00995       \n",
            "FP(False positive/type 1 error/false alarm)                       78            72            \n",
            "FPR(Fall-out or false positive rate)                              0.28889       0.0092        \n",
            "G(G-measure geometric mean of precision and sensitivity)          0.99043       0.71915       \n",
            "GI(Gini index)                                                    0.70192       0.70192       \n",
            "GM(G-mean geometric mean of specificity and sensitivity)          0.83939       0.83939       \n",
            "IBA(Index of balanced accuracy)                                   0.90164       0.50751       \n",
            "ICSI(Individual classification success index)                     0.98085       0.43838       \n",
            "IS(Information score)                                             0.03448       4.44746       \n",
            "J(Jaccard index)                                                  0.98103       0.5614        \n",
            "LS(Lift score)                                                    1.02419       21.81818      \n",
            "MCC(Matthews correlation coefficient)                             0.70958       0.70958       \n",
            "MCCI(Matthews correlation coefficient interpretation)             Strong        Strong        \n",
            "MCEN(Modified confusion entropy)                                  0.12745       0.9596        \n",
            "MK(Markedness)                                                    0.71732       0.71732       \n",
            "N(Condition negative)                                             270           7830          \n",
            "NLR(Negative likelihood ratio)                                    0.01293       0.29157       \n",
            "NLRI(Negative likelihood ratio interpretation)                    Good          Poor          \n",
            "NPV(Negative predictive value)                                    0.72727       0.99005       \n",
            "OC(Overlap coefficient)                                           0.9908        0.72727       \n",
            "OOC(Otsuka-Ochiai coefficient)                                    0.99043       0.71915       \n",
            "OP(Optimized precision)                                           0.81714       0.81714       \n",
            "P(Condition positive or support)                                  7830          270           \n",
            "PLR(Positive likelihood ratio)                                    3.42971       77.33333      \n",
            "PLRI(Positive likelihood ratio interpretation)                    Poor          Good          \n",
            "POP(Population)                                                   8100          8100          \n",
            "PPV(Precision or positive predictive value)                       0.99005       0.72727       \n",
            "PRE(Prevalence)                                                   0.96667       0.03333       \n",
            "Q(Yule Q - coefficient of colligation)                            0.99249       0.99249       \n",
            "QI(Yule Q interpretation)                                         Strong        Strong        \n",
            "RACC(Random accuracy)                                             0.93516       0.00109       \n",
            "RACCU(Random accuracy unbiased)                                   0.93516       0.00109       \n",
            "TN(True negative/correct rejection)                               192           7758          \n",
            "TNR(Specificity or true negative rate)                            0.71111       0.9908        \n",
            "TON(Test outcome negative)                                        264           7836          \n",
            "TOP(Test outcome positive)                                        7836          264           \n",
            "TP(True positive/hit)                                             7758          192           \n",
            "TPR(Sensitivity, recall, hit rate, or true positive rate)         0.9908        0.71111       \n",
            "Y(Youden index)                                                   0.70192       0.70192       \n",
            "dInd(Distance index)                                              0.28904       0.28904       \n",
            "sInd(Similarity index)                                            0.79562       0.79562       \n",
            "\n"
          ]
        }
      ],
      "source": [
        "print(cm)"
      ]
    },
    {
      "cell_type": "code",
      "execution_count": null,
      "metadata": {
        "id": "al-xe_3Z0Znt",
        "outputId": "53716c84-f665-4b66-ff78-946700cfc1eb"
      },
      "outputs": [
        {
          "name": "stdout",
          "output_type": "stream",
          "text": [
            "0.7734150138896176 0.9523456790123457\n"
          ]
        }
      ],
      "source": [
        "print(cm.overall_stat[\"F1 Macro\"], cm.overall_stat[\"F1 Micro\"])"
      ]
    },
    {
      "cell_type": "code",
      "execution_count": null,
      "metadata": {
        "id": "b4rUuXX60Znu",
        "outputId": "5aa8f648-63ea-4b42-d1ef-05e87288121c"
      },
      "outputs": [
        {
          "name": "stdout",
          "output_type": "stream",
          "text": [
            "0.94 0.81312213233808 0.967037037037037\n",
            "0.941 0.8178096673339481 0.9683950617283951\n",
            "0.942 0.8226966166428451 0.97\n",
            "0.943 0.8223030548472146 0.9704938271604938\n",
            "0.944 0.8259187620889749 0.971604938271605\n",
            "0.945 0.8328065375931099 0.9733333333333334\n",
            "0.946 0.8340170993705176 0.9738271604938271\n",
            "0.947 0.8368378418866185 0.9745679012345679\n",
            "0.948 0.8414257038628746 0.975679012345679\n",
            "0.949 0.8405767994858612 0.9758024691358025\n",
            "0.95 0.8424131539621054 0.9762962962962963\n",
            "0.951 0.8472559709849202 0.9774074074074074\n",
            "0.952 0.8493386071438871 0.9780246913580247\n",
            "0.953 0.851781685583915 0.9788888888888889\n",
            "0.954 0.8512755027320804 0.9792592592592593\n",
            "0.955 0.8523734190648958 0.9801234567901235\n",
            "0.956 0.8513157130409527 0.9804938271604938\n",
            "0.957 0.8547631240344438 0.9814814814814815\n",
            "0.958 0.8489992150706437 0.9812345679012345\n",
            "0.959 0.8462737503662169 0.981358024691358\n",
            "0.96 0.8452229299363057 0.9814814814814815\n",
            "0.961 0.8451486996733274 0.9819753086419754\n",
            "0.962 0.8449267843695089 0.9823456790123457\n",
            "0.963 0.8445553754291877 0.9825925925925926\n",
            "0.964 0.8456162642947903 0.9829629629629629\n",
            "0.965 0.8369234438423501 0.9823456790123457\n",
            "0.966 0.8333950388744908 0.9824691358024691\n",
            "0.967 0.8272322177682483 0.9823456790123457\n",
            "0.968 0.8215455387068411 0.9820987654320987\n",
            "0.969 0.8071953938477081 0.9811111111111112\n",
            "0.97 0.8000632911392405 0.9807407407407407\n",
            "0.971 0.7955063160074549 0.9804938271604938\n",
            "0.972 0.7842516975288216 0.9798765432098765\n",
            "0.973 0.7755614324048674 0.9793827160493828\n",
            "0.974 0.7618823961922809 0.9785185185185186\n",
            "0.975 0.7538372231991941 0.9780246913580247\n",
            "0.976 0.7379272978669189 0.9771604938271605\n",
            "0.977 0.7151452661254536 0.9760493827160494\n",
            "0.978 0.6989414967199028 0.9751851851851852\n",
            "0.979 0.6746207001851832 0.9739506172839506\n",
            "0.98 0.6572529025864663 0.9732098765432099\n"
          ]
        }
      ],
      "source": [
        "for threshold in np.arange(0.94, 0.98, 0.001):\n",
        "    predict_vector = (similarities > threshold) * 1\n",
        "    cm = ConfusionMatrix(actual_vector, predict_vector)\n",
        "    print(threshold, cm.overall_stat[\"F1 Macro\"], cm.overall_stat[\"F1 Micro\"])"
      ]
    },
    {
      "cell_type": "code",
      "execution_count": null,
      "metadata": {
        "id": "8l4b4M7zIt_r"
      },
      "outputs": [],
      "source": [
        "print(speech3)"
      ]
    },
    {
      "cell_type": "code",
      "execution_count": null,
      "metadata": {
        "colab": {
          "base_uri": "https://localhost:8080/",
          "height": 399
        },
        "id": "bxNUxSj-1l5a",
        "outputId": "abea8730-edac-4e00-e5f4-3514953434c4"
      },
      "outputs": [
        {
          "name": "stdout",
          "output_type": "stream",
          "text": [
            "Speakers are not the same!\n"
          ]
        },
        {
          "data": {
            "text/plain": [
              "0.69"
            ]
          },
          "execution_count": 14,
          "metadata": {},
          "output_type": "execute_result"
        }
      ],
      "source": [
        "inputs= feature_extractor(\n",
        "  speech3, sampling_rate=16000, return_tensors=\"pt\", padding=True\n",
        "    )\n",
        "\n",
        "with torch.no_grad():\n",
        "    embeddings = model(**inputs).embeddings\n",
        "\n",
        "embeddings = torch.nn.functional.normalize(embeddings, dim=-1).cpu()\n",
        "\n",
        "# the resulting embeddings can be used for cosine similarity-based retrieval\n",
        "cosine_sim = torch.nn.CosineSimilarity(dim=-1)\n",
        "similarity = cosine_sim(embeddings[0], embeddings[1])\n",
        "threshold = 0.9  # the optimal threshold is dataset-dependent\n",
        "if similarity < threshold:\n",
        "    print(\"Speakers are not the same!\")\n",
        "round(similarity.item(), 2)"
      ]
    },
    {
      "cell_type": "code",
      "execution_count": null,
      "metadata": {
        "id": "zCUMVBwTJDUq"
      },
      "outputs": [],
      "source": [
        "from pycm import *\n",
        "import numpy as np\n",
        "import copy\n",
        "import matplotlib.pyplot as plt\n",
        "from sklearn.metrics import confusion_matrix\n",
        "import os"
      ]
    },
    {
      "cell_type": "code",
      "execution_count": null,
      "metadata": {
        "id": "4xVLSq6E0Znw"
      },
      "outputs": [],
      "source": [
        ""
      ]
    }
  ],
  "metadata": {
    "colab": {
      "collapsed_sections": [],
      "name": "wavLM_Large_AGP.ipynb",
      "provenance": [],
      "include_colab_link": true
    },
    "gpuClass": "standard",
    "kernelspec": {
      "display_name": "Python 3 (ipykernel)",
      "language": "python",
      "name": "python3"
    },
    "language_info": {
      "codemirror_mode": {
        "name": "ipython",
        "version": 3
      },
      "file_extension": ".py",
      "mimetype": "text/x-python",
      "name": "python",
      "nbconvert_exporter": "python",
      "pygments_lexer": "ipython3",
      "version": "3.9.7"
    }
  },
  "nbformat": 4,
  "nbformat_minor": 0
}